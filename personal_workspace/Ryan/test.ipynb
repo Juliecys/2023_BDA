{
 "cells": [
  {
   "cell_type": "code",
   "execution_count": 1,
   "metadata": {},
   "outputs": [],
   "source": [
    "import numpy as np\n",
    "import pandas as pd"
   ]
  },
  {
   "cell_type": "code",
   "execution_count": 4,
   "metadata": {},
   "outputs": [],
   "source": [
    "df = pd.DataFrame()\n",
    "for i in range(2021, 2024):\n",
    "    x = pd.read_csv(f\"../../bda2023_mid_dataset/bda2023_mid_news_{i}.csv\")\n",
    "    df = pd.concat([df, x])\n"
   ]
  },
  {
   "cell_type": "code",
   "execution_count": 3,
   "metadata": {},
   "outputs": [
    {
     "name": "stdout",
     "output_type": "stream",
     "text": [
      "(df['content'].str.contains('台積電') & df['content'].str.contains('張忠謀')) | (df['content'].str.contains('台積電') & df['content'].str.contains('晶片')) | (df['content'].str.contains('張忠謀') & df['content'].str.contains('晶片')) | "
     ]
    },
    {
     "data": {
      "text/plain": [
       "0        False\n",
       "1        False\n",
       "2        False\n",
       "3         True\n",
       "4        False\n",
       "         ...  \n",
       "68821    False\n",
       "68822    False\n",
       "68823    False\n",
       "68824    False\n",
       "68825    False\n",
       "Name: title, Length: 474792, dtype: bool"
      ]
     },
     "execution_count": 3,
     "metadata": {},
     "output_type": "execute_result"
    }
   ],
   "source": [
    "keywords = ['台積電', '張忠謀', '晶片']\n",
    "for i in range(len(keywords)):\n",
    "    for j in range(i+1, len(keywords)):\n",
    "        print(f\"(df['content'].str.contains('{keywords[i]}') & df['content'].str.contains('{keywords[j]}'))\", end=\" | \")\n",
    "\n",
    "df['title'].str.contains('台積電|張忠謀|晶片', na=False)"
   ]
  },
  {
   "cell_type": "code",
   "execution_count": 5,
   "metadata": {},
   "outputs": [],
   "source": [
    "df['content'] += 5*df['title']"
   ]
  },
  {
   "cell_type": "code",
   "execution_count": 6,
   "metadata": {},
   "outputs": [],
   "source": [
    "df_key = df[(df['content'].str.contains('台積電') & df['content'].str.contains('張忠謀')) | (df['content'].str.contains('台積電') & df['content'].str.contains('晶片')) | (df['content'].str.contains('張忠謀') & df['content'].str.contains('晶片'))].reset_index(drop = True)"
   ]
  },
  {
   "cell_type": "code",
   "execution_count": 7,
   "metadata": {},
   "outputs": [
    {
     "data": {
      "text/plain": [
       "6832"
      ]
     },
     "execution_count": 7,
     "metadata": {},
     "output_type": "execute_result"
    }
   ],
   "source": [
    "df_key.shape[0]"
   ]
  },
  {
   "cell_type": "code",
   "execution_count": 8,
   "metadata": {},
   "outputs": [
    {
     "name": "stderr",
     "output_type": "stream",
     "text": [
      "<ipython-input-8-99700dd48d60>:4: SettingWithCopyWarning: \n",
      "A value is trying to be set on a copy of a slice from a DataFrame.\n",
      "Try using .loc[row_indexer,col_indexer] = value instead\n",
      "\n",
      "See the caveats in the documentation: https://pandas.pydata.org/pandas-docs/stable/user_guide/indexing.html#returning-a-view-versus-a-copy\n",
      "  df_wafer['post_time'] = pd.to_datetime(df_wafer['post_time']).dt.date\n"
     ]
    },
    {
     "data": {
      "text/html": [
       "<div>\n",
       "<style scoped>\n",
       "    .dataframe tbody tr th:only-of-type {\n",
       "        vertical-align: middle;\n",
       "    }\n",
       "\n",
       "    .dataframe tbody tr th {\n",
       "        vertical-align: top;\n",
       "    }\n",
       "\n",
       "    .dataframe thead th {\n",
       "        text-align: right;\n",
       "    }\n",
       "</style>\n",
       "<table border=\"1\" class=\"dataframe\">\n",
       "  <thead>\n",
       "    <tr style=\"text-align: right;\">\n",
       "      <th></th>\n",
       "      <th>post_time</th>\n",
       "      <th>title</th>\n",
       "      <th>content</th>\n",
       "    </tr>\n",
       "  </thead>\n",
       "  <tbody>\n",
       "    <tr>\n",
       "      <th>0</th>\n",
       "      <td>2021-01-01</td>\n",
       "      <td>明年買哪幾檔晶片股?分析師首選 Nvidia 和 AMD</td>\n",
       "      <td>週四 (31 日) 華爾街分析師表示，Nvidia 和 AMD 本月漲勢落後於其他半導體類股...</td>\n",
       "    </tr>\n",
       "    <tr>\n",
       "      <th>1</th>\n",
       "      <td>2021-01-01</td>\n",
       "      <td>《大陸產業》中芯成熟製程 獲美放行</td>\n",
       "      <td>【時報-台北電】遭美制裁的大陸晶圓代工龍頭中芯國際迎來曙光。業界傳出，中芯國際成熟製程獲得美...</td>\n",
       "    </tr>\n",
       "    <tr>\n",
       "      <th>2</th>\n",
       "      <td>2021-01-04</td>\n",
       "      <td>《各報要聞》台積今年資本支出上看200億美元</td>\n",
       "      <td>【時報-台北電】晶圓代工龍頭台積電2020年繳出亮麗成績單，預期全年美元營收年成長率逾三成並...</td>\n",
       "    </tr>\n",
       "    <tr>\n",
       "      <th>3</th>\n",
       "      <td>2021-01-04</td>\n",
       "      <td>《半導體》台積電等供應鏈力挺 聯發科Q1拚淡季不淡</td>\n",
       "      <td>【時報記者王逸芯台北報導】聯發科(2454)在去年第三季一舉超車高通，在行動晶片市占率衝上3...</td>\n",
       "    </tr>\n",
       "    <tr>\n",
       "      <th>4</th>\n",
       "      <td>2021-01-04</td>\n",
       "      <td>《半導體》2021年拚翻身 創意鎖漲停</td>\n",
       "      <td>【時報記者王逸芯台北報導】創意(3443)營運最壞時期已經過去，去年第四季在NRE案認列入帳...</td>\n",
       "    </tr>\n",
       "    <tr>\n",
       "      <th>...</th>\n",
       "      <td>...</td>\n",
       "      <td>...</td>\n",
       "      <td>...</td>\n",
       "    </tr>\n",
       "    <tr>\n",
       "      <th>6827</th>\n",
       "      <td>2023-03-21</td>\n",
       "      <td>晶片業起死回生？日媒揭實際庫存真相：反轉訊號來了</td>\n",
       "      <td>半導體景氣反轉向下，從「供不應求」轉變成「供應過剩」，市場關注產業景氣何時才會翻轉向上，日媒...</td>\n",
       "    </tr>\n",
       "    <tr>\n",
       "      <th>6828</th>\n",
       "      <td>2023-03-21</td>\n",
       "      <td>《盤前掃瞄-基本面》高通加速轉單台灣；國發會估景氣4月探底</td>\n",
       "      <td>【時報-台北電】基本面：1.前一交易日新台幣以30.593元兌一美元收市，貶值3.9分，成交...</td>\n",
       "    </tr>\n",
       "    <tr>\n",
       "      <th>6829</th>\n",
       "      <td>2023-03-21</td>\n",
       "      <td>《各報要聞》高通去中化 加速轉單台灣</td>\n",
       "      <td>【時報-台北電】為了因應半導體市場出現美國陣營及中國陣營的兩極化地緣政治風險，手機晶片大廠高...</td>\n",
       "    </tr>\n",
       "    <tr>\n",
       "      <th>6830</th>\n",
       "      <td>2023-03-21</td>\n",
       "      <td>《科技》台積電兩招…擴大專利版圖</td>\n",
       "      <td>【時報-台北電】晶圓代工龍頭台積電20日獲頒2023年科睿唯安全球百大創新機構獎，副法務長陳...</td>\n",
       "    </tr>\n",
       "    <tr>\n",
       "      <th>6831</th>\n",
       "      <td>2023-03-21</td>\n",
       "      <td>《熱門族群》高通轉單喜訊 精測笑開懷、這兩檔卻擺臭臉</td>\n",
       "      <td>【時報-台北電】台股今日隨美股彈升，在金融股回神、AI等具題材族群續強下，大盤指數盤中彈升約...</td>\n",
       "    </tr>\n",
       "  </tbody>\n",
       "</table>\n",
       "<p>6832 rows × 3 columns</p>\n",
       "</div>"
      ],
      "text/plain": [
       "       post_time                          title  \\\n",
       "0     2021-01-01   明年買哪幾檔晶片股?分析師首選 Nvidia 和 AMD   \n",
       "1     2021-01-01              《大陸產業》中芯成熟製程 獲美放行   \n",
       "2     2021-01-04         《各報要聞》台積今年資本支出上看200億美元   \n",
       "3     2021-01-04      《半導體》台積電等供應鏈力挺 聯發科Q1拚淡季不淡   \n",
       "4     2021-01-04            《半導體》2021年拚翻身 創意鎖漲停   \n",
       "...          ...                            ...   \n",
       "6827  2023-03-21       晶片業起死回生？日媒揭實際庫存真相：反轉訊號來了   \n",
       "6828  2023-03-21  《盤前掃瞄-基本面》高通加速轉單台灣；國發會估景氣4月探底   \n",
       "6829  2023-03-21             《各報要聞》高通去中化 加速轉單台灣   \n",
       "6830  2023-03-21               《科技》台積電兩招…擴大專利版圖   \n",
       "6831  2023-03-21     《熱門族群》高通轉單喜訊 精測笑開懷、這兩檔卻擺臭臉   \n",
       "\n",
       "                                                content  \n",
       "0     週四 (31 日) 華爾街分析師表示，Nvidia 和 AMD 本月漲勢落後於其他半導體類股...  \n",
       "1     【時報-台北電】遭美制裁的大陸晶圓代工龍頭中芯國際迎來曙光。業界傳出，中芯國際成熟製程獲得美...  \n",
       "2     【時報-台北電】晶圓代工龍頭台積電2020年繳出亮麗成績單，預期全年美元營收年成長率逾三成並...  \n",
       "3     【時報記者王逸芯台北報導】聯發科(2454)在去年第三季一舉超車高通，在行動晶片市占率衝上3...  \n",
       "4     【時報記者王逸芯台北報導】創意(3443)營運最壞時期已經過去，去年第四季在NRE案認列入帳...  \n",
       "...                                                 ...  \n",
       "6827  半導體景氣反轉向下，從「供不應求」轉變成「供應過剩」，市場關注產業景氣何時才會翻轉向上，日媒...  \n",
       "6828  【時報-台北電】基本面：1.前一交易日新台幣以30.593元兌一美元收市，貶值3.9分，成交...  \n",
       "6829  【時報-台北電】為了因應半導體市場出現美國陣營及中國陣營的兩極化地緣政治風險，手機晶片大廠高...  \n",
       "6830  【時報-台北電】晶圓代工龍頭台積電20日獲頒2023年科睿唯安全球百大創新機構獎，副法務長陳...  \n",
       "6831  【時報-台北電】台股今日隨美股彈升，在金融股回神、AI等具題材族群續強下，大盤指數盤中彈升約...  \n",
       "\n",
       "[6832 rows x 3 columns]"
      ]
     },
     "execution_count": 8,
     "metadata": {},
     "output_type": "execute_result"
    }
   ],
   "source": [
    "#  保留文章日期、標題、內文\n",
    "df_wafer = df_key[['post_time', 'title', 'content']]\n",
    "#  轉換日期型別\n",
    "df_wafer['post_time'] = pd.to_datetime(df_wafer['post_time']).dt.date\n",
    "df_wafer"
   ]
  },
  {
   "cell_type": "code",
   "execution_count": 9,
   "metadata": {},
   "outputs": [
    {
     "name": "stderr",
     "output_type": "stream",
     "text": [
      "<ipython-input-9-8f43615b5b67>:4: SettingWithCopyWarning: \n",
      "A value is trying to be set on a copy of a slice from a DataFrame.\n",
      "Try using .loc[row_indexer,col_indexer] = value instead\n",
      "\n",
      "See the caveats in the documentation: https://pandas.pydata.org/pandas-docs/stable/user_guide/indexing.html#returning-a-view-versus-a-copy\n",
      "  df_wafer['length'] = l\n"
     ]
    }
   ],
   "source": [
    "l = []\n",
    "for i in range(len(df_wafer)):\n",
    "    l.append(len(str(df_wafer['content'][i])))\n",
    "df_wafer['length'] = l"
   ]
  },
  {
   "cell_type": "code",
   "execution_count": 10,
   "metadata": {},
   "outputs": [],
   "source": [
    "df_filtlen = df_wafer[df_wafer['length'] > 50]"
   ]
  },
  {
   "cell_type": "code",
   "execution_count": 11,
   "metadata": {},
   "outputs": [
    {
     "data": {
      "text/plain": [
       "6832"
      ]
     },
     "execution_count": 11,
     "metadata": {},
     "output_type": "execute_result"
    }
   ],
   "source": [
    "df_filtlen.shape[0]"
   ]
  },
  {
   "cell_type": "code",
   "execution_count": 12,
   "metadata": {},
   "outputs": [
    {
     "data": {
      "text/html": [
       "<div>\n",
       "<style scoped>\n",
       "    .dataframe tbody tr th:only-of-type {\n",
       "        vertical-align: middle;\n",
       "    }\n",
       "\n",
       "    .dataframe tbody tr th {\n",
       "        vertical-align: top;\n",
       "    }\n",
       "\n",
       "    .dataframe thead th {\n",
       "        text-align: right;\n",
       "    }\n",
       "</style>\n",
       "<table border=\"1\" class=\"dataframe\">\n",
       "  <thead>\n",
       "    <tr style=\"text-align: right;\">\n",
       "      <th></th>\n",
       "      <th>post_time</th>\n",
       "      <th>title</th>\n",
       "      <th>content</th>\n",
       "      <th>length</th>\n",
       "    </tr>\n",
       "  </thead>\n",
       "  <tbody>\n",
       "    <tr>\n",
       "      <th>0</th>\n",
       "      <td>2021-01-01</td>\n",
       "      <td>明年買哪幾檔晶片股?分析師首選 Nvidia 和 AMD</td>\n",
       "      <td>週四 (31 日) 華爾街分析師表示，Nvidia 和 AMD 本月漲勢落後於其他半導體類股...</td>\n",
       "      <td>950</td>\n",
       "    </tr>\n",
       "    <tr>\n",
       "      <th>1</th>\n",
       "      <td>2021-01-01</td>\n",
       "      <td>《大陸產業》中芯成熟製程 獲美放行</td>\n",
       "      <td>【時報-台北電】遭美制裁的大陸晶圓代工龍頭中芯國際迎來曙光。業界傳出，中芯國際成熟製程獲得美...</td>\n",
       "      <td>1033</td>\n",
       "    </tr>\n",
       "    <tr>\n",
       "      <th>2</th>\n",
       "      <td>2021-01-04</td>\n",
       "      <td>《各報要聞》台積今年資本支出上看200億美元</td>\n",
       "      <td>【時報-台北電】晶圓代工龍頭台積電2020年繳出亮麗成績單，預期全年美元營收年成長率逾三成並...</td>\n",
       "      <td>1166</td>\n",
       "    </tr>\n",
       "    <tr>\n",
       "      <th>3</th>\n",
       "      <td>2021-01-04</td>\n",
       "      <td>《半導體》台積電等供應鏈力挺 聯發科Q1拚淡季不淡</td>\n",
       "      <td>【時報記者王逸芯台北報導】聯發科(2454)在去年第三季一舉超車高通，在行動晶片市占率衝上3...</td>\n",
       "      <td>781</td>\n",
       "    </tr>\n",
       "    <tr>\n",
       "      <th>4</th>\n",
       "      <td>2021-01-04</td>\n",
       "      <td>《半導體》2021年拚翻身 創意鎖漲停</td>\n",
       "      <td>【時報記者王逸芯台北報導】創意(3443)營運最壞時期已經過去，去年第四季在NRE案認列入帳...</td>\n",
       "      <td>631</td>\n",
       "    </tr>\n",
       "  </tbody>\n",
       "</table>\n",
       "</div>"
      ],
      "text/plain": [
       "    post_time                         title  \\\n",
       "0  2021-01-01  明年買哪幾檔晶片股?分析師首選 Nvidia 和 AMD   \n",
       "1  2021-01-01             《大陸產業》中芯成熟製程 獲美放行   \n",
       "2  2021-01-04        《各報要聞》台積今年資本支出上看200億美元   \n",
       "3  2021-01-04     《半導體》台積電等供應鏈力挺 聯發科Q1拚淡季不淡   \n",
       "4  2021-01-04           《半導體》2021年拚翻身 創意鎖漲停   \n",
       "\n",
       "                                             content  length  \n",
       "0  週四 (31 日) 華爾街分析師表示，Nvidia 和 AMD 本月漲勢落後於其他半導體類股...     950  \n",
       "1  【時報-台北電】遭美制裁的大陸晶圓代工龍頭中芯國際迎來曙光。業界傳出，中芯國際成熟製程獲得美...    1033  \n",
       "2  【時報-台北電】晶圓代工龍頭台積電2020年繳出亮麗成績單，預期全年美元營收年成長率逾三成並...    1166  \n",
       "3  【時報記者王逸芯台北報導】聯發科(2454)在去年第三季一舉超車高通，在行動晶片市占率衝上3...     781  \n",
       "4  【時報記者王逸芯台北報導】創意(3443)營運最壞時期已經過去，去年第四季在NRE案認列入帳...     631  "
      ]
     },
     "execution_count": 12,
     "metadata": {},
     "output_type": "execute_result"
    }
   ],
   "source": [
    "df_filtlen.head(5)"
   ]
  },
  {
   "cell_type": "code",
   "execution_count": 14,
   "metadata": {},
   "outputs": [
    {
     "name": "stdout",
     "output_type": "stream",
     "text": [
      "+---------------------------------------------------------------------+\n",
      "  Welcome to MONPA: Multi-Objective NER POS Annotator for Chinese\n",
      "+---------------------------------------------------------------------+\n",
      "已找到 model檔。Found model file.\n"
     ]
    }
   ],
   "source": [
    "#  斷詞套件\n",
    "import monpa\n",
    "from monpa import utils\n",
    "import re"
   ]
  },
  {
   "cell_type": "code",
   "execution_count": 15,
   "metadata": {},
   "outputs": [],
   "source": [
    "#  用來將字串以正則化處理去除中文字元以外的字元\n",
    "def clearSentence(sentence):\n",
    "    return re.sub(r'[^\\u4e00-\\u9fa5]+', '', sentence)\n",
    "\n",
    "#  去除繁體中文常用詞\n",
    "with open('../../bda2023_mid_dataset/stopwords_zh.txt', 'r', encoding='utf-8') as file:\n",
    "    stopwords = file.read().splitlines()\n",
    "file.close()"
   ]
  },
  {
   "cell_type": "code",
   "execution_count": 16,
   "metadata": {},
   "outputs": [],
   "source": [
    "import datetime"
   ]
  },
  {
   "cell_type": "code",
   "execution_count": 80,
   "metadata": {},
   "outputs": [],
   "source": [
    "df_filtlen[\"chunk\"] = df_filtlen[\"content\"].map(utils.short_sentence)"
   ]
  },
  {
   "cell_type": "code",
   "execution_count": 82,
   "metadata": {},
   "outputs": [
    {
     "data": {
      "text/plain": [
       "6"
      ]
     },
     "execution_count": 82,
     "metadata": {},
     "output_type": "execute_result"
    }
   ],
   "source": [
    "df_filtlen['chunk'][0]"
   ]
  },
  {
   "cell_type": "code",
   "execution_count": 86,
   "metadata": {},
   "outputs": [],
   "source": [
    "l = []\n",
    "for i, s in enumerate(df_filtlen[\"chunk\"]):\n",
    "    for j, c in enumerate(s):\n",
    "        df_filtlen[\"chunk\"][i][j] = clearSentence(c)"
   ]
  },
  {
   "cell_type": "code",
   "execution_count": 91,
   "metadata": {},
   "outputs": [],
   "source": [
    "df_filtlen[\"cut_mp_b\"] = utils.cut_mp(df_filtlen[\"chunk\"], 4)"
   ]
  },
  {
   "cell_type": "code",
   "execution_count": 99,
   "metadata": {},
   "outputs": [],
   "source": [
    "train_tokenStr_list = list()\n",
    "for parse_res in df_filtlen[\"cut_mp_b\"]:\n",
    "    train_tokenStr_list.append(sum(parse_res, []))"
   ]
  },
  {
   "cell_type": "code",
   "execution_count": 102,
   "metadata": {},
   "outputs": [
    {
     "data": {
      "text/plain": [
       "6832"
      ]
     },
     "execution_count": 102,
     "metadata": {},
     "output_type": "execute_result"
    }
   ],
   "source": [
    "train_tokenStr_list"
   ]
  },
  {
   "cell_type": "code",
   "execution_count": 39,
   "metadata": {},
   "outputs": [
    {
     "data": {
      "text/plain": [
       "10"
      ]
     },
     "execution_count": 39,
     "metadata": {},
     "output_type": "execute_result"
    }
   ],
   "source": [
    "# train_startDate = datetime.date(2021,1,1)\n",
    "# train_endDate = datetime.date(2023,3,21)\n",
    "\n",
    "# #  透過monpa對文章進行斷詞處理，並將個別斷詞結果寫在tokenStr這個字串變數中，\n",
    "# #  最後再將訓練集中所有字串存在tokenStr_list中\n",
    "# train_tokenStr_list = list()\n",
    "# for i in df_filtlen[df_filtlen[\"post_time\"].between(train_startDate, train_endDate)].index:\n",
    "#     try:\n",
    "#         sentence_list = utils.short_sentence(df_filtlen['content'][i])\n",
    "#         tokenStr = str()\n",
    "#         for sentence in sentence_list:\n",
    "#             sentence = clearSentence(sentence)\n",
    "#             tokens = monpa.cut(sentence)\n",
    "#             tokenStr += ' '.join(tokens)\n",
    "#         train_tokenStr_list.append(tokenStr)\n",
    "#     except:\n",
    "#         train_tokenStr_list.append('')\n",
    "# len(train_tokenStr_list)"
   ]
  },
  {
   "cell_type": "code",
   "execution_count": 108,
   "metadata": {},
   "outputs": [],
   "source": [
    "df_filtlen[\"token\"] = train_tokenStr_list\n"
   ]
  },
  {
   "cell_type": "code",
   "execution_count": null,
   "metadata": {},
   "outputs": [],
   "source": [
    "df_filtlen[[\"post_time\", \"title\", \"content\", \"token\"]].to_excel('TSMC_news_21-23.xlsx')"
   ]
  }
 ],
 "metadata": {
  "kernelspec": {
   "display_name": "base",
   "language": "python",
   "name": "python3"
  },
  "language_info": {
   "codemirror_mode": {
    "name": "ipython",
    "version": 3
   },
   "file_extension": ".py",
   "mimetype": "text/x-python",
   "name": "python",
   "nbconvert_exporter": "python",
   "pygments_lexer": "ipython3",
   "version": "3.8.5"
  },
  "orig_nbformat": 4
 },
 "nbformat": 4,
 "nbformat_minor": 2
}
