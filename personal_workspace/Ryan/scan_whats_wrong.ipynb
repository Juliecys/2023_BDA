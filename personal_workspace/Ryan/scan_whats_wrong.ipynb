{
 "cells": [
  {
   "cell_type": "code",
   "execution_count": 1,
   "metadata": {},
   "outputs": [],
   "source": [
    "import numpy as np\n",
    "import pandas as pd"
   ]
  },
  {
   "cell_type": "code",
   "execution_count": 2,
   "metadata": {},
   "outputs": [
    {
     "data": {
      "text/html": [
       "<div>\n",
       "<style scoped>\n",
       "    .dataframe tbody tr th:only-of-type {\n",
       "        vertical-align: middle;\n",
       "    }\n",
       "\n",
       "    .dataframe tbody tr th {\n",
       "        vertical-align: top;\n",
       "    }\n",
       "\n",
       "    .dataframe thead th {\n",
       "        text-align: right;\n",
       "    }\n",
       "</style>\n",
       "<table border=\"1\" class=\"dataframe\">\n",
       "  <thead>\n",
       "    <tr style=\"text-align: right;\">\n",
       "      <th></th>\n",
       "      <th>Unnamed: 0</th>\n",
       "      <th>post_time</th>\n",
       "      <th>title</th>\n",
       "      <th>content</th>\n",
       "      <th>token</th>\n",
       "    </tr>\n",
       "  </thead>\n",
       "  <tbody>\n",
       "    <tr>\n",
       "      <th>0</th>\n",
       "      <td>0</td>\n",
       "      <td>2020-01-02</td>\n",
       "      <td>美股：美中協議月中簽署，四大指數週二齊漲約0.3%封關，費半全年狂升逾六成</td>\n",
       "      <td>美股週二開盤延續前一天拉回格局，主要指數以平低盤開出，，盤中美國總統川普發文宣稱1月15日會...</td>\n",
       "      <td>['美股', '週二', '開盤', '延續', '前', '一', '天', '拉回', ...</td>\n",
       "    </tr>\n",
       "    <tr>\n",
       "      <th>1</th>\n",
       "      <td>1</td>\n",
       "      <td>2020-01-02</td>\n",
       "      <td>《熱門族群》5G新機連發，帶旺璟德、聯發科</td>\n",
       "      <td>美國消費性電子展（CES）將於元月7日∼10日接續舉辦，法人預期5G仍將是本次展期焦點，加上...</td>\n",
       "      <td>['美國', '消費性', '電子展', '將', '於', '元月', '日日', '接續...</td>\n",
       "    </tr>\n",
       "    <tr>\n",
       "      <th>2</th>\n",
       "      <td>2</td>\n",
       "      <td>2020-01-02</td>\n",
       "      <td>《熱門族群》台積電走高，半導體設備股跟漲</td>\n",
       "      <td>台積電 (2330) 股價今早開高走高，帶領台積電供應鏈及半導體設備股再度轉強。隨著美中貿易...</td>\n",
       "      <td>['台積電', '股價', '今', '早', '開', '高', '走高', '帶領', ...</td>\n",
       "    </tr>\n",
       "    <tr>\n",
       "      <th>3</th>\n",
       "      <td>3</td>\n",
       "      <td>2020-01-02</td>\n",
       "      <td>台灣科技能打趴歐洲大廠？專家分析「還太早」</td>\n",
       "      <td>近年來台灣不論科技、經濟等發展，都大幅的成長，也逐漸讓國際看到台灣。不過在科技的成長方面，就...</td>\n",
       "      <td>['近年', '來', '台灣', '不論', '科技', '經濟', '等', '發展',...</td>\n",
       "    </tr>\n",
       "    <tr>\n",
       "      <th>4</th>\n",
       "      <td>4</td>\n",
       "      <td>2020-01-02</td>\n",
       "      <td>京元電Q1營收估創同期高；全年看增雙位數</td>\n",
       "      <td>MoneyDJ新聞 2020-01-02 14:23:09 記者 王怡茹 報導&lt;BR&gt;京元電...</td>\n",
       "      <td>['新聞', '記者', '王怡茹', '報導', '京元電子', '年月', '營收', ...</td>\n",
       "    </tr>\n",
       "  </tbody>\n",
       "</table>\n",
       "</div>"
      ],
      "text/plain": [
       "   Unnamed: 0  post_time                                  title  \\\n",
       "0           0 2020-01-02  美股：美中協議月中簽署，四大指數週二齊漲約0.3%封關，費半全年狂升逾六成   \n",
       "1           1 2020-01-02                  《熱門族群》5G新機連發，帶旺璟德、聯發科   \n",
       "2           2 2020-01-02                   《熱門族群》台積電走高，半導體設備股跟漲   \n",
       "3           3 2020-01-02                  台灣科技能打趴歐洲大廠？專家分析「還太早」   \n",
       "4           4 2020-01-02                   京元電Q1營收估創同期高；全年看增雙位數   \n",
       "\n",
       "                                             content  \\\n",
       "0  美股週二開盤延續前一天拉回格局，主要指數以平低盤開出，，盤中美國總統川普發文宣稱1月15日會...   \n",
       "1  美國消費性電子展（CES）將於元月7日∼10日接續舉辦，法人預期5G仍將是本次展期焦點，加上...   \n",
       "2  台積電 (2330) 股價今早開高走高，帶領台積電供應鏈及半導體設備股再度轉強。隨著美中貿易...   \n",
       "3  近年來台灣不論科技、經濟等發展，都大幅的成長，也逐漸讓國際看到台灣。不過在科技的成長方面，就...   \n",
       "4  MoneyDJ新聞 2020-01-02 14:23:09 記者 王怡茹 報導<BR>京元電...   \n",
       "\n",
       "                                               token  \n",
       "0  ['美股', '週二', '開盤', '延續', '前', '一', '天', '拉回', ...  \n",
       "1  ['美國', '消費性', '電子展', '將', '於', '元月', '日日', '接續...  \n",
       "2  ['台積電', '股價', '今', '早', '開', '高', '走高', '帶領', ...  \n",
       "3  ['近年', '來', '台灣', '不論', '科技', '經濟', '等', '發展',...  \n",
       "4  ['新聞', '記者', '王怡茹', '報導', '京元電子', '年月', '營收', ...  "
      ]
     },
     "execution_count": 2,
     "metadata": {},
     "output_type": "execute_result"
    }
   ],
   "source": [
    "df_news = pd.read_excel(\"../../TSMC_news_20-22.xlsx\")\n",
    "df_news.head()"
   ]
  },
  {
   "cell_type": "code",
   "execution_count": 22,
   "metadata": {},
   "outputs": [
    {
     "data": {
      "text/plain": [
       "7452"
      ]
     },
     "execution_count": 22,
     "metadata": {},
     "output_type": "execute_result"
    }
   ],
   "source": [
    "# token 型態轉換，fit in 套件\n",
    "df_news_list = []\n",
    "for i in range(len(df_news)):\n",
    "    df_news_list_tmp = []\n",
    "    df_news_str = ''\n",
    "    df_news_list_tmp = eval(df_news.token[i])\n",
    "    df_news_str = ' '.join(df_news_list_tmp)\n",
    "    df_news_list.append(df_news_str)\n",
    "len(df_news_list)"
   ]
  },
  {
   "cell_type": "code",
   "execution_count": 26,
   "metadata": {},
   "outputs": [
    {
     "data": {
      "text/plain": [
       "'美股 週二 開盤 延續 前 一 天 拉回 格局 主要 指數 以 平 低盤 開出 盤 中 美國 總統 川普 發文 宣稱 月日會 簽署 首 階段 美中 貿易 協議 市場 吃 了 定心丸 後 再 上 四 大 指數 在 年 最後 一 個 交易日 尾盤 齊步 走 揚收 小紅封 關 唯一 的 遺憾 是 所有 指數 未 能 扳回 前 一 天 所有 失土 在 封關 的 當下 標普 和那 指 同步 締造 六 年 來 年度 最 大 漲幅 紀錄 分析 人士 認為 美股 年 的 升勢 主要 源起 聯準會 三 度 降息 在 此 之前 在 年 先後 加 息 次 聯邦 基金 目標 利率 最 高 見至川普 週二 透過 推特 發文 透露 將 於 月日 在 白宮 與 中方 高級別 代表 舉行 首 階段 貿易 協議 簽署 儀式 爾後 他 會 親身 前往 北京 就 第二 階段 協議 展開 談判 惟 未 有 交代 時間 這 項 利好 因 美國 駐 巴格達 大使館 外 發生 暴力 抗議 的 消息 而 淡化 紐約 股市 年終 收盤 道瓊 工業 指數 上漲點 或 以 點 作收 當天 思科 和 蘋果 三 檔 最 旺 依序 漲 和 蘋果 收 在 美元 是 陣營 收 唯一 在 封關日 改寫 新猷 的 個股 標普 指數 收 漲點 或 來到 點 那 指 漲點 或 收 在 點 以 晶片 為主 的 費城 半導體 指數 小漲點 或 報點 成份股 中英偉達 和 美光 各 漲 和 最 旺台 積電 漲 至 美元 也 在 前 十 強 之 列 凌雲 邏輯 跌 是 最 大 魯蛇 也 唯一 跌幅 逾 的 成份股 四 大 股指 月 月線 第四 季 和 年 均 大幅 上漲 就 月線 而言 道瓊 漲 標普 指數 急漲 為 九 年 來 最 旺 的 月 那 指彈 升費半 大漲 為 月 以來 最 旺年 第四季 道瓊 漲 標普 指數 勁揚 那 指 猛漲 費半 飆升 為 年 第三季 強彈 以來 最 旺 累計 年 全 年 道瓊 漲幅 為 兩 年 來 最 旺 標普 指數 漲 那 指漲 皆 是 年來 年度 最 旺費半狂升 則 是 年暴衝 以來 的 十 年 最 旺 統計 在 過去年 道瓊 指數 累計 大漲 標普 指數 急漲 那 指 強彈 費半 更 飆出 的 漲幅 年 全年 計算 蘋果 飆升 微軟 急彈 是 道瓊 且 是 美股 兩 大 攻頂 火車頭 週二 成交量 略 低於 正常 水準 美國 各 證交所 共計 成交 億 股 明顯 低於 過去 個 完整 交易日 的 日 均 成交量 億股 美股 週三 將 因 新年 假期 休市 美股美中 協議 月 中 簽署 四 大 指數 週二 齊漲 約封 關費 半 全 年 狂升 逾 六成 美股美 中 協議 月 中 簽署 四 大 指數 週二 齊漲 約封關費 半 全 年 狂升 逾 六成 美股美 中 協議 月 中 簽署 四 大 指數 週二 齊漲 約 封關費 半 全 年 狂升 逾 六成'"
      ]
     },
     "execution_count": 26,
     "metadata": {},
     "output_type": "execute_result"
    }
   ],
   "source": [
    "df_news_list[0]"
   ]
  },
  {
   "cell_type": "code",
   "execution_count": 46,
   "metadata": {},
   "outputs": [],
   "source": [
    "cnt = len(df_news_list)\n",
    "for i in range(len(df_news_list)):\n",
    "    if df_news_list[i].find('台積電') != -1:\n",
    "        cnt -= 1"
   ]
  },
  {
   "cell_type": "code",
   "execution_count": 47,
   "metadata": {},
   "outputs": [
    {
     "data": {
      "text/plain": [
       "248"
      ]
     },
     "execution_count": 47,
     "metadata": {},
     "output_type": "execute_result"
    }
   ],
   "source": [
    "cnt"
   ]
  },
  {
   "cell_type": "code",
   "execution_count": 45,
   "metadata": {},
   "outputs": [
    {
     "name": "stdout",
     "output_type": "stream",
     "text": [
      "75\n",
      "-1\n",
      "65\n"
     ]
    }
   ],
   "source": [
    "i = 6\n",
    "print(df_news_list[i].find('台積電'))\n",
    "print(df_news_list[i].find('張忠謀'))\n",
    "print(df_news_list[i].find('晶片'))"
   ]
  }
 ],
 "metadata": {
  "kernelspec": {
   "display_name": "base",
   "language": "python",
   "name": "python3"
  },
  "language_info": {
   "codemirror_mode": {
    "name": "ipython",
    "version": 3
   },
   "file_extension": ".py",
   "mimetype": "text/x-python",
   "name": "python",
   "nbconvert_exporter": "python",
   "pygments_lexer": "ipython3",
   "version": "3.8.5"
  },
  "orig_nbformat": 4
 },
 "nbformat": 4,
 "nbformat_minor": 2
}
