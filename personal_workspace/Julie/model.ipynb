{
 "cells": [
  {
   "cell_type": "code",
   "execution_count": 1,
   "metadata": {},
   "outputs": [],
   "source": [
    "import numpy as np\n",
    "import pandas as pd\n",
    "from sklearn.feature_extraction.text import TfidfVectorizer\n",
    "from sklearn.feature_selection import SelectKBest\n",
    "from sklearn.feature_selection import chi2"
   ]
  },
  {
   "cell_type": "code",
   "execution_count": 3,
   "metadata": {},
   "outputs": [],
   "source": [
    "# impoort 斷詞（要放 topwords_zh.txt 進資料夾）\n",
    "with open('./stopwords_zh.txt', 'r') as file:\n",
    "    stopwords = file.read().splitlines() \n",
    "file.close()"
   ]
  },
  {
   "cell_type": "code",
   "execution_count": 4,
   "metadata": {},
   "outputs": [],
   "source": [
    "df = pd.read_excel(\"../../bda2023_mid_dataset/stock_data_2019-2023.xlsx\", sheet_name=[\"上市2020\", \"上市2021\", \"上市2022\"], usecols=['證券代碼', '年月日', '收盤價(元)'])"
   ]
  },
  {
   "cell_type": "code",
   "execution_count": 5,
   "metadata": {},
   "outputs": [],
   "source": [
    "# import stock excel\n",
    "# 只留台積電的日期跟收盤價\n",
    "# 按照日期由最早往最晚排\n",
    "df_STOCK = pd.DataFrame()\n",
    "for i in range(2020, 2023):\n",
    "    df_STOCK = pd.concat([df_STOCK, df[(f\"上市{i}\")].loc[::-1]])"
   ]
  },
  {
   "cell_type": "code",
   "execution_count": 6,
   "metadata": {},
   "outputs": [],
   "source": [
    "df_STOCK = df_STOCK[df_STOCK[\"證券代碼\"] == \"2330 台積電\"].reset_index(drop = True)"
   ]
  },
  {
   "cell_type": "code",
   "execution_count": 7,
   "metadata": {},
   "outputs": [
    {
     "data": {
      "text/html": [
       "<div>\n",
       "<style scoped>\n",
       "    .dataframe tbody tr th:only-of-type {\n",
       "        vertical-align: middle;\n",
       "    }\n",
       "\n",
       "    .dataframe tbody tr th {\n",
       "        vertical-align: top;\n",
       "    }\n",
       "\n",
       "    .dataframe thead th {\n",
       "        text-align: right;\n",
       "    }\n",
       "</style>\n",
       "<table border=\"1\" class=\"dataframe\">\n",
       "  <thead>\n",
       "    <tr style=\"text-align: right;\">\n",
       "      <th></th>\n",
       "      <th>證券代碼</th>\n",
       "      <th>年月日</th>\n",
       "      <th>收盤價(元)</th>\n",
       "    </tr>\n",
       "  </thead>\n",
       "  <tbody>\n",
       "    <tr>\n",
       "      <th>0</th>\n",
       "      <td>2330 台積電</td>\n",
       "      <td>2020-01-02</td>\n",
       "      <td>328.2957</td>\n",
       "    </tr>\n",
       "    <tr>\n",
       "      <th>1</th>\n",
       "      <td>2330 台積電</td>\n",
       "      <td>2020-01-03</td>\n",
       "      <td>328.7799</td>\n",
       "    </tr>\n",
       "    <tr>\n",
       "      <th>2</th>\n",
       "      <td>2330 台積電</td>\n",
       "      <td>2020-01-06</td>\n",
       "      <td>321.5168</td>\n",
       "    </tr>\n",
       "    <tr>\n",
       "      <th>3</th>\n",
       "      <td>2330 台積電</td>\n",
       "      <td>2020-01-07</td>\n",
       "      <td>319.0957</td>\n",
       "    </tr>\n",
       "    <tr>\n",
       "      <th>4</th>\n",
       "      <td>2330 台積電</td>\n",
       "      <td>2020-01-08</td>\n",
       "      <td>319.0957</td>\n",
       "    </tr>\n",
       "  </tbody>\n",
       "</table>\n",
       "</div>"
      ],
      "text/plain": [
       "       證券代碼         年月日    收盤價(元)\n",
       "0  2330 台積電  2020-01-02  328.2957\n",
       "1  2330 台積電  2020-01-03  328.7799\n",
       "2  2330 台積電  2020-01-06  321.5168\n",
       "3  2330 台積電  2020-01-07  319.0957\n",
       "4  2330 台積電  2020-01-08  319.0957"
      ]
     },
     "execution_count": 7,
     "metadata": {},
     "output_type": "execute_result"
    }
   ],
   "source": [
    "# 更改年月日的日期格式\n",
    "df_STOCK['年月日'] = pd.to_datetime(df_STOCK['年月日']).dt.date\n",
    "df_STOCK.head(5)"
   ]
  },
  {
   "cell_type": "code",
   "execution_count": 8,
   "metadata": {},
   "outputs": [
    {
     "data": {
      "text/html": [
       "<div>\n",
       "<style scoped>\n",
       "    .dataframe tbody tr th:only-of-type {\n",
       "        vertical-align: middle;\n",
       "    }\n",
       "\n",
       "    .dataframe tbody tr th {\n",
       "        vertical-align: top;\n",
       "    }\n",
       "\n",
       "    .dataframe thead th {\n",
       "        text-align: right;\n",
       "    }\n",
       "</style>\n",
       "<table border=\"1\" class=\"dataframe\">\n",
       "  <thead>\n",
       "    <tr style=\"text-align: right;\">\n",
       "      <th></th>\n",
       "      <th>Unnamed: 0</th>\n",
       "      <th>post_time</th>\n",
       "      <th>title</th>\n",
       "      <th>content</th>\n",
       "      <th>token</th>\n",
       "    </tr>\n",
       "  </thead>\n",
       "  <tbody>\n",
       "    <tr>\n",
       "      <th>0</th>\n",
       "      <td>0</td>\n",
       "      <td>2020-01-02</td>\n",
       "      <td>美股：美中協議月中簽署，四大指數週二齊漲約0.3%封關，費半全年狂升逾六成</td>\n",
       "      <td>美股週二開盤延續前一天拉回格局，主要指數以平低盤開出，，盤中美國總統川普發文宣稱1月15日會...</td>\n",
       "      <td>['美股美中', '協議', '月中', '簽署', '四', '大', '指數', '週二...</td>\n",
       "    </tr>\n",
       "    <tr>\n",
       "      <th>1</th>\n",
       "      <td>1</td>\n",
       "      <td>2020-01-02</td>\n",
       "      <td>《熱門族群》5G新機連發，帶旺璟德、聯發科</td>\n",
       "      <td>美國消費性電子展（CES）將於元月7日∼10日接續舉辦，法人預期5G仍將是本次展期焦點，加上...</td>\n",
       "      <td>['熱門', '族群', '新機', '連', '發帶', '旺璟德', '聯發科', '熱...</td>\n",
       "    </tr>\n",
       "    <tr>\n",
       "      <th>2</th>\n",
       "      <td>2</td>\n",
       "      <td>2020-01-02</td>\n",
       "      <td>《熱門族群》台積電走高，半導體設備股跟漲</td>\n",
       "      <td>台積電 (2330) 股價今早開高走高，帶領台積電供應鏈及半導體設備股再度轉強。隨著美中貿易...</td>\n",
       "      <td>['熱門', '族群', '台積電', '走高', '半導體', '設備股', '跟', '...</td>\n",
       "    </tr>\n",
       "    <tr>\n",
       "      <th>3</th>\n",
       "      <td>3</td>\n",
       "      <td>2020-01-02</td>\n",
       "      <td>台灣科技能打趴歐洲大廠？專家分析「還太早」</td>\n",
       "      <td>近年來台灣不論科技、經濟等發展，都大幅的成長，也逐漸讓國際看到台灣。不過在科技的成長方面，就...</td>\n",
       "      <td>['台灣', '科技', '能', '打', '趴', '歐洲', '大廠', '專家', ...</td>\n",
       "    </tr>\n",
       "    <tr>\n",
       "      <th>4</th>\n",
       "      <td>4</td>\n",
       "      <td>2020-01-02</td>\n",
       "      <td>京元電Q1營收估創同期高；全年看增雙位數</td>\n",
       "      <td>MoneyDJ新聞 2020-01-02 14:23:09 記者 王怡茹 報導&lt;BR&gt;京元電...</td>\n",
       "      <td>['京元電', '營收', '估創', '同', '期', '高', '全', '年', '...</td>\n",
       "    </tr>\n",
       "  </tbody>\n",
       "</table>\n",
       "</div>"
      ],
      "text/plain": [
       "   Unnamed: 0  post_time                                  title  \\\n",
       "0           0 2020-01-02  美股：美中協議月中簽署，四大指數週二齊漲約0.3%封關，費半全年狂升逾六成   \n",
       "1           1 2020-01-02                  《熱門族群》5G新機連發，帶旺璟德、聯發科   \n",
       "2           2 2020-01-02                   《熱門族群》台積電走高，半導體設備股跟漲   \n",
       "3           3 2020-01-02                  台灣科技能打趴歐洲大廠？專家分析「還太早」   \n",
       "4           4 2020-01-02                   京元電Q1營收估創同期高；全年看增雙位數   \n",
       "\n",
       "                                             content  \\\n",
       "0  美股週二開盤延續前一天拉回格局，主要指數以平低盤開出，，盤中美國總統川普發文宣稱1月15日會...   \n",
       "1  美國消費性電子展（CES）將於元月7日∼10日接續舉辦，法人預期5G仍將是本次展期焦點，加上...   \n",
       "2  台積電 (2330) 股價今早開高走高，帶領台積電供應鏈及半導體設備股再度轉強。隨著美中貿易...   \n",
       "3  近年來台灣不論科技、經濟等發展，都大幅的成長，也逐漸讓國際看到台灣。不過在科技的成長方面，就...   \n",
       "4  MoneyDJ新聞 2020-01-02 14:23:09 記者 王怡茹 報導<BR>京元電...   \n",
       "\n",
       "                                               token  \n",
       "0  ['美股美中', '協議', '月中', '簽署', '四', '大', '指數', '週二...  \n",
       "1  ['熱門', '族群', '新機', '連', '發帶', '旺璟德', '聯發科', '熱...  \n",
       "2  ['熱門', '族群', '台積電', '走高', '半導體', '設備股', '跟', '...  \n",
       "3  ['台灣', '科技', '能', '打', '趴', '歐洲', '大廠', '專家', ...  \n",
       "4  ['京元電', '營收', '估創', '同', '期', '高', '全', '年', '...  "
      ]
     },
     "execution_count": 8,
     "metadata": {},
     "output_type": "execute_result"
    }
   ],
   "source": [
    "# import news excel \n",
    "df_NEWS = pd.read_excel(\"../../TSMC_fly_news_20-22.xlsx\")\n",
    "df_NEWS.head()"
   ]
  },
  {
   "cell_type": "code",
   "execution_count": 267,
   "metadata": {},
   "outputs": [],
   "source": [
    "# 更改年月日的日期格式\n",
    "df_NEWS['post_time'] = pd.to_datetime(df_NEWS['post_time']).dt.date"
   ]
  },
  {
   "attachments": {},
   "cell_type": "markdown",
   "metadata": {},
   "source": [
    "# Requirement 1"
   ]
  },
  {
   "cell_type": "code",
   "execution_count": 372,
   "metadata": {},
   "outputs": [],
   "source": [
    "# 換新的 n 跟 sigma 要記得重跑這裡\n",
    "df_stock = df_STOCK.copy()\n",
    "df_news = df_NEWS.copy()"
   ]
  },
  {
   "cell_type": "code",
   "execution_count": 373,
   "metadata": {},
   "outputs": [],
   "source": [
    "# for i, date in enumerate(df_news['post_time']):\n",
    "#     if(date.isoweekday() == 6):\n",
    "#         df_news['post_time'][i] += datetime.timedelta(days = -1)\n",
    "#     elif(date.isoweekday() == 7):\n",
    "#         df_news['post_time'][i] += datetime.timedelta(days = -2)"
   ]
  },
  {
   "cell_type": "code",
   "execution_count": 374,
   "metadata": {},
   "outputs": [
    {
     "data": {
      "text/html": [
       "<div>\n",
       "<style scoped>\n",
       "    .dataframe tbody tr th:only-of-type {\n",
       "        vertical-align: middle;\n",
       "    }\n",
       "\n",
       "    .dataframe tbody tr th {\n",
       "        vertical-align: top;\n",
       "    }\n",
       "\n",
       "    .dataframe thead th {\n",
       "        text-align: right;\n",
       "    }\n",
       "</style>\n",
       "<table border=\"1\" class=\"dataframe\">\n",
       "  <thead>\n",
       "    <tr style=\"text-align: right;\">\n",
       "      <th></th>\n",
       "      <th>證券代碼</th>\n",
       "      <th>年月日</th>\n",
       "      <th>收盤價(元)</th>\n",
       "    </tr>\n",
       "  </thead>\n",
       "  <tbody>\n",
       "    <tr>\n",
       "      <th>0</th>\n",
       "      <td>2330 台積電</td>\n",
       "      <td>2020-01-02</td>\n",
       "      <td>328.2957</td>\n",
       "    </tr>\n",
       "    <tr>\n",
       "      <th>1</th>\n",
       "      <td>2330 台積電</td>\n",
       "      <td>2020-01-03</td>\n",
       "      <td>328.7799</td>\n",
       "    </tr>\n",
       "    <tr>\n",
       "      <th>2</th>\n",
       "      <td>2330 台積電</td>\n",
       "      <td>2020-01-06</td>\n",
       "      <td>321.5168</td>\n",
       "    </tr>\n",
       "    <tr>\n",
       "      <th>3</th>\n",
       "      <td>2330 台積電</td>\n",
       "      <td>2020-01-07</td>\n",
       "      <td>319.0957</td>\n",
       "    </tr>\n",
       "    <tr>\n",
       "      <th>4</th>\n",
       "      <td>2330 台積電</td>\n",
       "      <td>2020-01-08</td>\n",
       "      <td>319.0957</td>\n",
       "    </tr>\n",
       "    <tr>\n",
       "      <th>...</th>\n",
       "      <td>...</td>\n",
       "      <td>...</td>\n",
       "      <td>...</td>\n",
       "    </tr>\n",
       "    <tr>\n",
       "      <th>730</th>\n",
       "      <td>2330 台積電</td>\n",
       "      <td>2022-12-26</td>\n",
       "      <td>454.0431</td>\n",
       "    </tr>\n",
       "    <tr>\n",
       "      <th>731</th>\n",
       "      <td>2330 台積電</td>\n",
       "      <td>2022-12-27</td>\n",
       "      <td>454.5404</td>\n",
       "    </tr>\n",
       "    <tr>\n",
       "      <th>732</th>\n",
       "      <td>2330 台積電</td>\n",
       "      <td>2022-12-28</td>\n",
       "      <td>448.5727</td>\n",
       "    </tr>\n",
       "    <tr>\n",
       "      <th>733</th>\n",
       "      <td>2330 台積電</td>\n",
       "      <td>2022-12-29</td>\n",
       "      <td>443.5996</td>\n",
       "    </tr>\n",
       "    <tr>\n",
       "      <th>734</th>\n",
       "      <td>2330 台積電</td>\n",
       "      <td>2022-12-30</td>\n",
       "      <td>446.0862</td>\n",
       "    </tr>\n",
       "  </tbody>\n",
       "</table>\n",
       "<p>735 rows × 3 columns</p>\n",
       "</div>"
      ],
      "text/plain": [
       "         證券代碼         年月日    收盤價(元)\n",
       "0    2330 台積電  2020-01-02  328.2957\n",
       "1    2330 台積電  2020-01-03  328.7799\n",
       "2    2330 台積電  2020-01-06  321.5168\n",
       "3    2330 台積電  2020-01-07  319.0957\n",
       "4    2330 台積電  2020-01-08  319.0957\n",
       "..        ...         ...       ...\n",
       "730  2330 台積電  2022-12-26  454.0431\n",
       "731  2330 台積電  2022-12-27  454.5404\n",
       "732  2330 台積電  2022-12-28  448.5727\n",
       "733  2330 台積電  2022-12-29  443.5996\n",
       "734  2330 台積電  2022-12-30  446.0862\n",
       "\n",
       "[735 rows x 3 columns]"
      ]
     },
     "execution_count": 374,
     "metadata": {},
     "output_type": "execute_result"
    }
   ],
   "source": [
    "df_stock"
   ]
  },
  {
   "cell_type": "code",
   "execution_count": 375,
   "metadata": {},
   "outputs": [
    {
     "data": {
      "text/html": [
       "<div>\n",
       "<style scoped>\n",
       "    .dataframe tbody tr th:only-of-type {\n",
       "        vertical-align: middle;\n",
       "    }\n",
       "\n",
       "    .dataframe tbody tr th {\n",
       "        vertical-align: top;\n",
       "    }\n",
       "\n",
       "    .dataframe thead th {\n",
       "        text-align: right;\n",
       "    }\n",
       "</style>\n",
       "<table border=\"1\" class=\"dataframe\">\n",
       "  <thead>\n",
       "    <tr style=\"text-align: right;\">\n",
       "      <th></th>\n",
       "      <th>證券代碼</th>\n",
       "      <th>年月日</th>\n",
       "      <th>收盤價(元)</th>\n",
       "      <th>label</th>\n",
       "    </tr>\n",
       "  </thead>\n",
       "  <tbody>\n",
       "    <tr>\n",
       "      <th>0</th>\n",
       "      <td>2330 台積電</td>\n",
       "      <td>2020-01-02</td>\n",
       "      <td>328.2957</td>\n",
       "      <td>跌</td>\n",
       "    </tr>\n",
       "    <tr>\n",
       "      <th>1</th>\n",
       "      <td>2330 台積電</td>\n",
       "      <td>2020-01-03</td>\n",
       "      <td>328.7799</td>\n",
       "      <td>跌</td>\n",
       "    </tr>\n",
       "    <tr>\n",
       "      <th>2</th>\n",
       "      <td>2330 台積電</td>\n",
       "      <td>2020-01-06</td>\n",
       "      <td>321.5168</td>\n",
       "      <td>漲</td>\n",
       "    </tr>\n",
       "    <tr>\n",
       "      <th>3</th>\n",
       "      <td>2330 台積電</td>\n",
       "      <td>2020-01-07</td>\n",
       "      <td>319.0957</td>\n",
       "      <td>漲</td>\n",
       "    </tr>\n",
       "    <tr>\n",
       "      <th>4</th>\n",
       "      <td>2330 台積電</td>\n",
       "      <td>2020-01-08</td>\n",
       "      <td>319.0957</td>\n",
       "      <td>漲</td>\n",
       "    </tr>\n",
       "    <tr>\n",
       "      <th>...</th>\n",
       "      <td>...</td>\n",
       "      <td>...</td>\n",
       "      <td>...</td>\n",
       "      <td>...</td>\n",
       "    </tr>\n",
       "    <tr>\n",
       "      <th>730</th>\n",
       "      <td>2330 台積電</td>\n",
       "      <td>2022-12-26</td>\n",
       "      <td>454.0431</td>\n",
       "      <td>跌</td>\n",
       "    </tr>\n",
       "    <tr>\n",
       "      <th>731</th>\n",
       "      <td>2330 台積電</td>\n",
       "      <td>2022-12-27</td>\n",
       "      <td>454.5404</td>\n",
       "      <td>跌</td>\n",
       "    </tr>\n",
       "    <tr>\n",
       "      <th>732</th>\n",
       "      <td>2330 台積電</td>\n",
       "      <td>2022-12-28</td>\n",
       "      <td>448.5727</td>\n",
       "      <td>0</td>\n",
       "    </tr>\n",
       "    <tr>\n",
       "      <th>733</th>\n",
       "      <td>2330 台積電</td>\n",
       "      <td>2022-12-29</td>\n",
       "      <td>443.5996</td>\n",
       "      <td>0</td>\n",
       "    </tr>\n",
       "    <tr>\n",
       "      <th>734</th>\n",
       "      <td>2330 台積電</td>\n",
       "      <td>2022-12-30</td>\n",
       "      <td>446.0862</td>\n",
       "      <td>0</td>\n",
       "    </tr>\n",
       "  </tbody>\n",
       "</table>\n",
       "<p>735 rows × 4 columns</p>\n",
       "</div>"
      ],
      "text/plain": [
       "         證券代碼         年月日    收盤價(元) label\n",
       "0    2330 台積電  2020-01-02  328.2957     跌\n",
       "1    2330 台積電  2020-01-03  328.7799     跌\n",
       "2    2330 台積電  2020-01-06  321.5168     漲\n",
       "3    2330 台積電  2020-01-07  319.0957     漲\n",
       "4    2330 台積電  2020-01-08  319.0957     漲\n",
       "..        ...         ...       ...   ...\n",
       "730  2330 台積電  2022-12-26  454.0431     跌\n",
       "731  2330 台積電  2022-12-27  454.5404     跌\n",
       "732  2330 台積電  2022-12-28  448.5727     0\n",
       "733  2330 台積電  2022-12-29  443.5996     0\n",
       "734  2330 台積電  2022-12-30  446.0862     0\n",
       "\n",
       "[735 rows x 4 columns]"
      ]
     },
     "execution_count": 375,
     "metadata": {},
     "output_type": "execute_result"
    }
   ],
   "source": [
    "# Requirement 1 的第二點\n",
    "\n",
    "# 如果調整這裡的參數，記得重新拿 df_stock（因為後面會 drop 持平）\n",
    "day_n = 3 # 以 day_n 天後來看是漲還是跌\n",
    "sigma = 0.01 # 以 sigma 決定漲（跌）幅超過幾 % 是漲（跌）\n",
    "\n",
    "\n",
    "label = []\n",
    "for i in range(len(df_stock) - day_n):\n",
    "    rate = (df_stock['收盤價(元)'][i + day_n] - df_stock['收盤價(元)'][i]) / df_stock['收盤價(元)'][i]\n",
    "    if rate > sigma:\n",
    "       label.append('漲')\n",
    "    elif rate < -sigma:\n",
    "        label.append('跌')\n",
    "    else:\n",
    "        label.append('持平')\n",
    "for i in range(day_n):\n",
    "    label.append(0)\n",
    "# label.extend([0, 0, 0])\n",
    "\n",
    "df_stock['label'] = label\n",
    "df_stock"
   ]
  },
  {
   "cell_type": "code",
   "execution_count": 376,
   "metadata": {},
   "outputs": [
    {
     "name": "stdout",
     "output_type": "stream",
     "text": [
      "735\n",
      "預估漲的天數： 261\n",
      "預估跌的天數： 261\n",
      "預估持平的天數： 213\n"
     ]
    }
   ],
   "source": [
    "upCnt = 0\n",
    "downCnt = 0\n",
    "flatCnt = 0\n",
    "for i in range(len(df_stock)):\n",
    "    if df_stock['label'][i] == '漲':\n",
    "        upCnt += 1\n",
    "    elif df_stock['label'][i] == '跌':\n",
    "        downCnt += 1 \n",
    "    else :\n",
    "        flatCnt += 1\n",
    "print(len(df_stock))\n",
    "print('預估漲的天數：', upCnt)\n",
    "print('預估跌的天數：', downCnt)\n",
    "print('預估持平的天數：', flatCnt)"
   ]
  },
  {
   "cell_type": "code",
   "execution_count": 377,
   "metadata": {},
   "outputs": [],
   "source": [
    "# 丟掉持平的資料\n",
    "df_stock = df_stock[df_stock.label != '持平']\n",
    "df_stock = df_stock[df_stock.label != 0]\n",
    "df_stock = df_stock.reset_index(drop = True)\n",
    "# df_stock"
   ]
  },
  {
   "cell_type": "code",
   "execution_count": 378,
   "metadata": {},
   "outputs": [],
   "source": [
    "from collections import defaultdict\n",
    "dic=defaultdict(int)\n",
    "for i in range(len(df_stock)):\n",
    "    dic[(df_stock['年月日'][i])] = (df_stock['label'][i])"
   ]
  },
  {
   "cell_type": "code",
   "execution_count": 379,
   "metadata": {},
   "outputs": [
    {
     "data": {
      "text/html": [
       "<div>\n",
       "<style scoped>\n",
       "    .dataframe tbody tr th:only-of-type {\n",
       "        vertical-align: middle;\n",
       "    }\n",
       "\n",
       "    .dataframe tbody tr th {\n",
       "        vertical-align: top;\n",
       "    }\n",
       "\n",
       "    .dataframe thead th {\n",
       "        text-align: right;\n",
       "    }\n",
       "</style>\n",
       "<table border=\"1\" class=\"dataframe\">\n",
       "  <thead>\n",
       "    <tr style=\"text-align: right;\">\n",
       "      <th></th>\n",
       "      <th>Unnamed: 0</th>\n",
       "      <th>post_time</th>\n",
       "      <th>title</th>\n",
       "      <th>content</th>\n",
       "      <th>token</th>\n",
       "      <th>label</th>\n",
       "    </tr>\n",
       "  </thead>\n",
       "  <tbody>\n",
       "    <tr>\n",
       "      <th>0</th>\n",
       "      <td>0</td>\n",
       "      <td>2020-01-02</td>\n",
       "      <td>美股：美中協議月中簽署，四大指數週二齊漲約0.3%封關，費半全年狂升逾六成</td>\n",
       "      <td>美股週二開盤延續前一天拉回格局，主要指數以平低盤開出，，盤中美國總統川普發文宣稱1月15日會...</td>\n",
       "      <td>['美股美中', '協議', '月中', '簽署', '四', '大', '指數', '週二...</td>\n",
       "      <td>跌</td>\n",
       "    </tr>\n",
       "    <tr>\n",
       "      <th>1</th>\n",
       "      <td>1</td>\n",
       "      <td>2020-01-02</td>\n",
       "      <td>《熱門族群》5G新機連發，帶旺璟德、聯發科</td>\n",
       "      <td>美國消費性電子展（CES）將於元月7日∼10日接續舉辦，法人預期5G仍將是本次展期焦點，加上...</td>\n",
       "      <td>['熱門', '族群', '新機', '連', '發帶', '旺璟德', '聯發科', '熱...</td>\n",
       "      <td>跌</td>\n",
       "    </tr>\n",
       "    <tr>\n",
       "      <th>2</th>\n",
       "      <td>2</td>\n",
       "      <td>2020-01-02</td>\n",
       "      <td>《熱門族群》台積電走高，半導體設備股跟漲</td>\n",
       "      <td>台積電 (2330) 股價今早開高走高，帶領台積電供應鏈及半導體設備股再度轉強。隨著美中貿易...</td>\n",
       "      <td>['熱門', '族群', '台積電', '走高', '半導體', '設備股', '跟', '...</td>\n",
       "      <td>跌</td>\n",
       "    </tr>\n",
       "    <tr>\n",
       "      <th>3</th>\n",
       "      <td>3</td>\n",
       "      <td>2020-01-02</td>\n",
       "      <td>台灣科技能打趴歐洲大廠？專家分析「還太早」</td>\n",
       "      <td>近年來台灣不論科技、經濟等發展，都大幅的成長，也逐漸讓國際看到台灣。不過在科技的成長方面，就...</td>\n",
       "      <td>['台灣', '科技', '能', '打', '趴', '歐洲', '大廠', '專家', ...</td>\n",
       "      <td>跌</td>\n",
       "    </tr>\n",
       "    <tr>\n",
       "      <th>4</th>\n",
       "      <td>4</td>\n",
       "      <td>2020-01-02</td>\n",
       "      <td>京元電Q1營收估創同期高；全年看增雙位數</td>\n",
       "      <td>MoneyDJ新聞 2020-01-02 14:23:09 記者 王怡茹 報導&lt;BR&gt;京元電...</td>\n",
       "      <td>['京元電', '營收', '估創', '同', '期', '高', '全', '年', '...</td>\n",
       "      <td>跌</td>\n",
       "    </tr>\n",
       "    <tr>\n",
       "      <th>5</th>\n",
       "      <td>5</td>\n",
       "      <td>2020-01-02</td>\n",
       "      <td>【Y晚報】元旦假後開市 台積電領軍大漲百點</td>\n",
       "      <td>（開盤日15:30出刊）美股在前日(12/31)封關日，四大指數全數收漲，漲幅介於0.27%...</td>\n",
       "      <td>['晚報', '元旦', '假', '後', '開市', '台積電', '領軍', '大漲'...</td>\n",
       "      <td>跌</td>\n",
       "    </tr>\n",
       "    <tr>\n",
       "      <th>6</th>\n",
       "      <td>6</td>\n",
       "      <td>2020-01-03</td>\n",
       "      <td>《各報要聞》2020報喜，歐美股聯袂走揚</td>\n",
       "      <td>2020年第一個交易日，歐美股市齊聲歡唱。泛歐STOXX 600指數早盤勁升0.9％，美股三...</td>\n",
       "      <td>['各', '報', '要聞', '報喜', '歐美', '股', '聯袂', '走揚', ...</td>\n",
       "      <td>跌</td>\n",
       "    </tr>\n",
       "    <tr>\n",
       "      <th>7</th>\n",
       "      <td>7</td>\n",
       "      <td>2020-01-03</td>\n",
       "      <td>美股：四大指數週四開春首日齊攻頂，道瓊大漲330點，FAANG及中概股表現亮眼</td>\n",
       "      <td>美股送走六年來漲勢最凌厲的2019年後，2020年新年第一個交易日，迎來人行降準，美中簽署第...</td>\n",
       "      <td>['美股', '四', '大', '指數', '週四', '開春', '首日', '齊', ...</td>\n",
       "      <td>跌</td>\n",
       "    </tr>\n",
       "    <tr>\n",
       "      <th>8</th>\n",
       "      <td>8</td>\n",
       "      <td>2020-01-03</td>\n",
       "      <td>【Y早報】進入5G元年 佈局CES商機 族群行情再發威</td>\n",
       "      <td>（開盤日09:00出刊）MLCC供貨吃緊恐漲價，國巨營收看俏；iPad降價搶大陸市場，帶旺主...</td>\n",
       "      <td>['早報', '進入', '元年', '佈局', '商機', '族群', '行情', '再'...</td>\n",
       "      <td>跌</td>\n",
       "    </tr>\n",
       "    <tr>\n",
       "      <th>9</th>\n",
       "      <td>9</td>\n",
       "      <td>2020-01-03</td>\n",
       "      <td>【日盛金控晨訊】結構有利盤勢 支撐看月線</td>\n",
       "      <td>日期：2020年 1月 3日&lt;BR&gt;※盤勢分析&lt;BR&gt;1.隨著中國新經濟刺激措施增加、以及美...</td>\n",
       "      <td>['日盛金控', '晨訊', '結構', '有利', '盤勢', '支撐', '看', '月...</td>\n",
       "      <td>跌</td>\n",
       "    </tr>\n",
       "  </tbody>\n",
       "</table>\n",
       "</div>"
      ],
      "text/plain": [
       "   Unnamed: 0   post_time                                    title  \\\n",
       "0           0  2020-01-02    美股：美中協議月中簽署，四大指數週二齊漲約0.3%封關，費半全年狂升逾六成   \n",
       "1           1  2020-01-02                    《熱門族群》5G新機連發，帶旺璟德、聯發科   \n",
       "2           2  2020-01-02                     《熱門族群》台積電走高，半導體設備股跟漲   \n",
       "3           3  2020-01-02                    台灣科技能打趴歐洲大廠？專家分析「還太早」   \n",
       "4           4  2020-01-02                     京元電Q1營收估創同期高；全年看增雙位數   \n",
       "5           5  2020-01-02                    【Y晚報】元旦假後開市 台積電領軍大漲百點   \n",
       "6           6  2020-01-03                     《各報要聞》2020報喜，歐美股聯袂走揚   \n",
       "7           7  2020-01-03  美股：四大指數週四開春首日齊攻頂，道瓊大漲330點，FAANG及中概股表現亮眼   \n",
       "8           8  2020-01-03              【Y早報】進入5G元年 佈局CES商機 族群行情再發威   \n",
       "9           9  2020-01-03                     【日盛金控晨訊】結構有利盤勢 支撐看月線   \n",
       "\n",
       "                                             content  \\\n",
       "0  美股週二開盤延續前一天拉回格局，主要指數以平低盤開出，，盤中美國總統川普發文宣稱1月15日會...   \n",
       "1  美國消費性電子展（CES）將於元月7日∼10日接續舉辦，法人預期5G仍將是本次展期焦點，加上...   \n",
       "2  台積電 (2330) 股價今早開高走高，帶領台積電供應鏈及半導體設備股再度轉強。隨著美中貿易...   \n",
       "3  近年來台灣不論科技、經濟等發展，都大幅的成長，也逐漸讓國際看到台灣。不過在科技的成長方面，就...   \n",
       "4  MoneyDJ新聞 2020-01-02 14:23:09 記者 王怡茹 報導<BR>京元電...   \n",
       "5  （開盤日15:30出刊）美股在前日(12/31)封關日，四大指數全數收漲，漲幅介於0.27%...   \n",
       "6  2020年第一個交易日，歐美股市齊聲歡唱。泛歐STOXX 600指數早盤勁升0.9％，美股三...   \n",
       "7  美股送走六年來漲勢最凌厲的2019年後，2020年新年第一個交易日，迎來人行降準，美中簽署第...   \n",
       "8  （開盤日09:00出刊）MLCC供貨吃緊恐漲價，國巨營收看俏；iPad降價搶大陸市場，帶旺主...   \n",
       "9  日期：2020年 1月 3日<BR>※盤勢分析<BR>1.隨著中國新經濟刺激措施增加、以及美...   \n",
       "\n",
       "                                               token label  \n",
       "0  ['美股美中', '協議', '月中', '簽署', '四', '大', '指數', '週二...     跌  \n",
       "1  ['熱門', '族群', '新機', '連', '發帶', '旺璟德', '聯發科', '熱...     跌  \n",
       "2  ['熱門', '族群', '台積電', '走高', '半導體', '設備股', '跟', '...     跌  \n",
       "3  ['台灣', '科技', '能', '打', '趴', '歐洲', '大廠', '專家', ...     跌  \n",
       "4  ['京元電', '營收', '估創', '同', '期', '高', '全', '年', '...     跌  \n",
       "5  ['晚報', '元旦', '假', '後', '開市', '台積電', '領軍', '大漲'...     跌  \n",
       "6  ['各', '報', '要聞', '報喜', '歐美', '股', '聯袂', '走揚', ...     跌  \n",
       "7  ['美股', '四', '大', '指數', '週四', '開春', '首日', '齊', ...     跌  \n",
       "8  ['早報', '進入', '元年', '佈局', '商機', '族群', '行情', '再'...     跌  \n",
       "9  ['日盛金控', '晨訊', '結構', '有利', '盤勢', '支撐', '看', '月...     跌  "
      ]
     },
     "execution_count": 379,
     "metadata": {},
     "output_type": "execute_result"
    }
   ],
   "source": [
    "label_news = []\n",
    "for i in range(len(df_news)):\n",
    "    label_news.append(dic[df_news[\"post_time\"][i]])\n",
    "df_news['label'] = label_news\n",
    "df_news.head(10)"
   ]
  },
  {
   "cell_type": "code",
   "execution_count": 380,
   "metadata": {},
   "outputs": [],
   "source": [
    "# 刪掉 label 是 0 的資料\n",
    "df_news_no_zero = df_news[df_news.label != 0]\n",
    "df_news_no_zero = df_news_no_zero.reset_index(drop = True)"
   ]
  },
  {
   "cell_type": "code",
   "execution_count": 381,
   "metadata": {},
   "outputs": [
    {
     "data": {
      "text/plain": [
       "4863"
      ]
     },
     "execution_count": 381,
     "metadata": {},
     "output_type": "execute_result"
    }
   ],
   "source": [
    "# token 型態轉換，fit in 套件\n",
    "df_news_list = []\n",
    "for i in range(len(df_news_no_zero)):\n",
    "    df_news_list_tmp = []\n",
    "    df_news_str = ''\n",
    "    df_news_list_tmp = eval(df_news_no_zero.token[i])\n",
    "    df_news_str = ' '.join(df_news_list_tmp)\n",
    "    df_news_list.append(df_news_str)\n",
    "len(df_news_list)"
   ]
  },
  {
   "cell_type": "code",
   "execution_count": 382,
   "metadata": {},
   "outputs": [],
   "source": [
    "df_news_no_zero['new_token'] = [news.split(' ') for news in df_news_list]"
   ]
  },
  {
   "cell_type": "code",
   "execution_count": 383,
   "metadata": {},
   "outputs": [],
   "source": [
    "df_news_up = df_news_no_zero[df_news_no_zero['label'] == '漲'].reset_index(drop = True)\n",
    "df_news_down = df_news_no_zero[df_news_no_zero['label'] == '跌'].reset_index(drop = True)"
   ]
  },
  {
   "cell_type": "code",
   "execution_count": 384,
   "metadata": {},
   "outputs": [],
   "source": [
    "from collections import Counter"
   ]
  },
  {
   "cell_type": "code",
   "execution_count": 385,
   "metadata": {},
   "outputs": [],
   "source": [
    "dict_stopwords = defaultdict(int)\n",
    "for word in stopwords:\n",
    "    dict_stopwords[word] += 1"
   ]
  },
  {
   "cell_type": "code",
   "execution_count": 386,
   "metadata": {},
   "outputs": [],
   "source": [
    "tf_counter_up = Counter() # 預備統計tf用\n",
    "df_counter_up = Counter() # 預備統計df用\n",
    "\n",
    "upstr_list = []\n",
    "\n",
    "for i in range(len(df_news_up)):\n",
    "    df_tmp_up=Counter() # 暫存本篇df用\n",
    "    for term in df_news_up['new_token'][i]:\n",
    "        if(dict_stopwords[term]):\n",
    "            continue\n",
    "        if(len(term) > 1): # 若詞長>1\n",
    "            tf_counter_up[term] += 1 # tf加1\n",
    "            upstr_list.append(term)\n",
    "        if(df_tmp_up[term] == 0): # 若本篇之前不曾出現\n",
    "            df_tmp_up[term] = 1 # df標為1\n",
    "    df_counter_up += df_tmp_up # 累加多篇df"
   ]
  },
  {
   "cell_type": "code",
   "execution_count": 387,
   "metadata": {},
   "outputs": [
    {
     "data": {
      "text/plain": [
       "17.754234628215773"
      ]
     },
     "execution_count": 387,
     "metadata": {},
     "output_type": "execute_result"
    }
   ],
   "source": [
    "import math\n",
    "tfidf_up = Counter()\n",
    "for i in range(len(upstr_list)):\n",
    "    item  = upstr_list[i]\n",
    "    pts = (1 + math.log(tf_counter_up[item]) * math.log(len(df_news_no_zero)/df_counter_up[item]))\n",
    "    tfidf_up[item] = pts\n",
    "pts"
   ]
  },
  {
   "cell_type": "code",
   "execution_count": 388,
   "metadata": {},
   "outputs": [],
   "source": [
    "tf_counter_down = Counter() #預備統計tf用\n",
    "df_counter_down = Counter() #預備統計df用\n",
    "\n",
    "downstr_list = []\n",
    "\n",
    "for i in range(len(df_news_down)):\n",
    "    df_tmp_down=Counter() #暫存本篇df用\n",
    "    for term in df_news_down['new_token'][i]:\n",
    "        if(dict_stopwords[term]):\n",
    "            continue\n",
    "        if(len(term) > 1): #若詞長>1\n",
    "            tf_counter_down[term] += 1 #tf加1\n",
    "            downstr_list.append(term)\n",
    "        if(df_tmp_down[term] == 0): #若本篇之前不曾出現\n",
    "            df_tmp_down[term] = 1 #df標為1\n",
    "    df_counter_down += df_tmp_down # 累加多篇df"
   ]
  },
  {
   "cell_type": "code",
   "execution_count": 389,
   "metadata": {},
   "outputs": [
    {
     "data": {
      "text/plain": [
       "16.210982207708"
      ]
     },
     "execution_count": 389,
     "metadata": {},
     "output_type": "execute_result"
    }
   ],
   "source": [
    "tfidf_down = Counter()\n",
    "for i in range(len(downstr_list)):\n",
    "    item  = downstr_list[i]\n",
    "    pts = (1 + math.log(tf_counter_down[item]) * math.log(len(df_news_no_zero)/df_counter_down[item]))\n",
    "    tfidf_down[item] = pts\n",
    "pts"
   ]
  },
  {
   "cell_type": "code",
   "execution_count": 390,
   "metadata": {},
   "outputs": [],
   "source": [
    "allstr_list = upstr_list + downstr_list\n",
    "tf_counter_all = Counter()\n",
    "df_counter_all = Counter()\n",
    "for item in allstr_list:\n",
    "    tf_counter_all[item] = tf_counter_up[item] + tf_counter_down[item]\n",
    "    df_counter_all[item] = df_counter_up[item] + df_counter_down[item]"
   ]
  },
  {
   "cell_type": "code",
   "execution_count": 391,
   "metadata": {},
   "outputs": [],
   "source": [
    "#tfidf_chi_up\n",
    "chi_tfidf_up = Counter()\n",
    "for item in upstr_list:\n",
    "    expected_tf = tf_counter_all[item] / (len(df_news_up.index) + len(df_news_down.index)) * len(df_news_up)\n",
    "    expected_df = df_counter_all[item] / (len(df_news_up.index) + len(df_news_down.index)) * len(df_news_up)\n",
    "    \n",
    "    if tf_counter_up[item] < expected_tf:\n",
    "        n1 = -1\n",
    "    else:\n",
    "        n1 = 1\n",
    "    tf_pts = (tf_counter_all[item] - expected_tf)**2 / expected_tf\n",
    "    if df_counter_up[item] < expected_df:\n",
    "        n2 = -1\n",
    "    else:\n",
    "        n2 = 1\n",
    "    df_pts = (df_counter_all[item] - expected_df)**2 / expected_df\n",
    "    chi_pts = tfidf_up[item] * math.sqrt(tf_pts) * math.sqrt(df_pts) * n1 * n2\n",
    "    chi_tfidf_up[item] = chi_pts"
   ]
  },
  {
   "cell_type": "code",
   "execution_count": 392,
   "metadata": {},
   "outputs": [
    {
     "name": "stdout",
     "output_type": "stream",
     "text": [
      "半導體 38488.8904679966\n",
      "美國 36055.004901808745\n",
      "指數 35739.14344467522\n",
      "晶片 35232.14399035886\n",
      "美元 33531.380350758256\n",
      "台股 32993.936537597816\n",
      "市場 31884.978331869825\n",
      "營收 31614.46642246532\n",
      "台灣 29255.35413329279\n",
      "股價 28488.51388638449\n",
      "奈米 26744.801709716092\n",
      "產業 26073.079094243392\n",
      "全球 25684.512525658964\n",
      "晶圓 25339.97537535546\n",
      "成長 24995.39888223516\n",
      "外資 23669.71490321117\n",
      "持續 23465.931822466955\n",
      "需求 23449.95456565214\n",
      "公司 22946.48393870916\n",
      "產能 21774.23657452215\n",
      "技術 21590.619385897684\n",
      "表現 21369.034012417193\n",
      "聯發科 20692.25318249242\n",
      "客戶 20305.241891525464\n",
      "代工 20146.702180096\n",
      "產品 19197.05072920714\n",
      "影響 18997.09944297719\n",
      "新高 18995.497487221233\n",
      "上漲 18834.046443814146\n",
      "法人 18709.857671156646\n",
      "報導 18412.434676966815\n",
      "去年 18023.19082851452\n",
      "生產 17620.798012642674\n",
      "手機 17606.320801932758\n",
      "電子 17554.76744660847\n",
      "英特爾 17368.887043866336\n",
      "下跌 17119.280213166305\n",
      "科技 17090.78682099224\n",
      "疫情 16962.268007163926\n",
      "未來 16791.68906683983\n",
      "國際 15447.29285539111\n",
      "相關 15257.077286463355\n",
      "營運 14957.71588635619\n",
      "訂單 14951.50485250245\n",
      "帶動 14768.982005218286\n",
      "可望 14600.575307228084\n",
      "企業 14599.343683665968\n",
      "供應鏈 14427.945497879382\n",
      "族群 14420.272751873645\n",
      "包括 14409.537445710599\n",
      "台北 14239.267996439485\n",
      "三星 14187.556803320196\n",
      "漲幅 13972.213032435084\n",
      "增加 13876.665427650449\n",
      "製造 13731.167420515952\n",
      "發展 13372.436231987713\n",
      "道瓊 13236.746280987347\n",
      "超過 12818.542827081232\n",
      "通膨 12781.252586085277\n",
      "終場 12766.107205248694\n",
      "歷史 12613.321028675033\n",
      "看好 12509.260777486525\n",
      "供應 12490.1916622474\n",
      "量產 12434.83488832557\n",
      "大廠 12297.694872825003\n",
      "機會 12221.67224701964\n",
      "下半年 12145.67042065907\n",
      "日本 12094.638877340127\n",
      "出貨 11949.672115626543\n",
      "記者 11699.924107031993\n",
      "預計 11606.940787114969\n",
      "受惠 11430.31631567617\n",
      "資金 11417.819892709396\n",
      "震盪 11390.857352103352\n",
      "近期 11377.063480764235\n",
      "第一 11151.143359032012\n",
      "大陸 11148.211338215346\n",
      "積電 11145.800561880582\n",
      "強勁 11128.991763240112\n",
      "宣布 11091.887466452485\n",
      "提供 11068.018538601968\n",
      "公布 10938.742388688861\n",
      "聯電 10843.259511525901\n",
      "數據 10730.110176279397\n",
      "提升 10651.28616659079\n",
      "處理器 10644.654965129563\n",
      "消息 10635.867330370318\n",
      "庫存 10594.25012774424\n",
      "計畫 10552.44667516635\n",
      "世界 10550.389677672723\n",
      "業者 10506.075917840473\n",
      "短線 10475.087230693429\n",
      "智慧 10412.128268678343\n",
      "整體 10344.02908259821\n",
      "分析 10299.311759009819\n",
      "跌幅 10282.295446633978\n",
      "時報 10194.988186080362\n",
      "行情 10087.111048575316\n",
      "標普 10061.859885714584\n",
      "優於 10061.553189622773\n"
     ]
    }
   ],
   "source": [
    "for term in chi_tfidf_up.most_common(100): #印出看漲 tfidf 前100名\n",
    "  print(term[0],term[1])"
   ]
  },
  {
   "cell_type": "code",
   "execution_count": 393,
   "metadata": {},
   "outputs": [],
   "source": [
    "#tfidf_chi_down\n",
    "chi_tfidf_down = Counter()\n",
    "for item in downstr_list:\n",
    "    expected_tf = tf_counter_all[item] / (len(df_news_up.index) + len(df_news_down.index)) * len(df_news_down)\n",
    "    expected_df = df_counter_all[item] / (len(df_news_up.index) + len(df_news_down.index)) * len(df_news_down)\n",
    "\n",
    "    if tf_counter_down[item] < expected_tf:\n",
    "        n1 = -1\n",
    "    else:\n",
    "        n1 = 1\n",
    "    tf_pts = (tf_counter_all[item] - expected_tf)**2 / expected_tf\n",
    "    if df_counter_down[item] < expected_df:\n",
    "        n2 = -1\n",
    "    else:\n",
    "        n2 = 1\n",
    "    df_pts = (df_counter_all[item] - expected_df)**2 / expected_df\n",
    "    chi_pts = tfidf_down[item] * math.sqrt(tf_pts) * math.sqrt(df_pts) * n1 * n2\n",
    "    chi_tfidf_down[item] = chi_pts"
   ]
  },
  {
   "cell_type": "code",
   "execution_count": 394,
   "metadata": {},
   "outputs": [
    {
     "name": "stdout",
     "output_type": "stream",
     "text": [
      "半導體 30695.068240563865\n",
      "美國 28886.88620279682\n",
      "指數 28793.237902998917\n",
      "台股 27825.396910747284\n",
      "美元 27512.75476466757\n",
      "晶片 27103.635269531398\n",
      "營收 26073.89335698234\n",
      "市場 26036.451338780607\n",
      "台灣 24316.04966144\n",
      "股價 24204.58024731117\n",
      "奈米 21971.306743490964\n",
      "全球 21103.58028785071\n",
      "產業 20913.583871353323\n",
      "晶圓 20892.113194798065\n",
      "外資 20519.35615810211\n",
      "成長 20445.97719079766\n",
      "需求 19378.846438130702\n",
      "持續 19230.729231878275\n",
      "公司 18682.221831496503\n",
      "產能 18137.671577535326\n",
      "技術 17498.09481302781\n",
      "表現 17452.530727239457\n",
      "聯發科 17052.927259476484\n",
      "代工 16806.143204480464\n",
      "客戶 16585.174837152994\n",
      "影響 16112.989338611407\n",
      "新高 15734.739546195571\n",
      "產品 15727.495336883352\n",
      "法人 15610.242637452422\n",
      "報導 15507.711273007255\n",
      "上漲 15495.378413983624\n",
      "電子 14553.877660346992\n",
      "生產 14448.836586714788\n",
      "去年 14419.080662700908\n",
      "手機 14393.023495522477\n",
      "疫情 14365.958961889366\n",
      "下跌 14218.976710383862\n",
      "英特爾 14194.753164777027\n",
      "科技 14015.937070531325\n",
      "未來 13960.6788770358\n",
      "訂單 12845.673308278096\n",
      "相關 12636.886328048757\n",
      "台北 12524.752617860364\n",
      "營運 12456.266404764378\n",
      "可望 12312.918474130207\n",
      "國際 12263.512926493822\n",
      "帶動 12045.048077672938\n",
      "族群 12019.835277736409\n",
      "企業 11967.97522722128\n",
      "三星 11949.085631949354\n",
      "包括 11766.908100984609\n",
      "漲幅 11743.289211768404\n",
      "供應鏈 11697.424565375375\n",
      "增加 11533.083183819934\n",
      "製造 11394.128726117373\n",
      "道瓊 10980.751618732522\n",
      "發展 10950.22989145847\n",
      "看好 10748.491089250007\n",
      "歷史 10597.002926639636\n",
      "通膨 10421.683045684757\n",
      "供應 10409.775375831527\n",
      "終場 10387.00250151801\n",
      "超過 10324.779973772282\n",
      "量產 10297.093955872551\n",
      "下半年 10059.456628035241\n",
      "日本 10024.310149080016\n",
      "出貨 10002.565172430233\n",
      "大廠 9941.190209636961\n",
      "記者 9919.917994957304\n",
      "機會 9884.909477840063\n",
      "公布 9546.579027714179\n",
      "受惠 9541.426626486873\n",
      "震盪 9516.794059239091\n",
      "資金 9493.825712999072\n",
      "近期 9460.825552199603\n",
      "預計 9360.84379758646\n",
      "強勁 9342.46540137337\n",
      "積電 9200.160508909194\n",
      "大陸 9138.717581714742\n",
      "聯電 9116.910089144141\n",
      "處理器 9087.601362292424\n",
      "第一 9069.835950170018\n",
      "宣布 9060.849487334233\n",
      "庫存 9018.979788214067\n",
      "跌幅 8967.71853017357\n",
      "消息 8965.006716607373\n",
      "提供 8877.37253119435\n",
      "時報 8861.923468911644\n",
      "短線 8860.969065230074\n",
      "計畫 8728.889594634124\n",
      "智慧 8679.441253327188\n",
      "數據 8653.896725309376\n",
      "提升 8606.862519336968\n",
      "分析 8503.307017908335\n",
      "世界 8460.000794374335\n",
      "業者 8446.712175905823\n",
      "整體 8362.62824609329\n",
      "標普 8336.939878025823\n",
      "關鍵 8316.546429482078\n",
      "採用 8270.155119567587\n"
     ]
    }
   ],
   "source": [
    "for term in chi_tfidf_down.most_common(100): #印出看跌 tfidf 前100名\n",
    "  print(term[0],term[1])"
   ]
  },
  {
   "cell_type": "code",
   "execution_count": 411,
   "metadata": {},
   "outputs": [
    {
     "data": {
      "text/plain": [
       "1444"
      ]
     },
     "execution_count": 411,
     "metadata": {},
     "output_type": "execute_result"
    }
   ],
   "source": [
    "# 取前 n 名關鍵字的差集\n",
    "\n",
    "# n -> most_common(n)\n",
    "list_up = [word[0] for word in chi_tfidf_up.most_common(10000)]\n",
    "list_down = [word[0] for word in chi_tfidf_down.most_common(10000)]\n",
    "\n",
    "key_diff = list(set(list_up).difference(set(list_down)))\n",
    "len(key_diff)"
   ]
  },
  {
   "cell_type": "code",
   "execution_count": 412,
   "metadata": {},
   "outputs": [],
   "source": [
    "X_data = df_news_list\n",
    "Y_data = df_news_no_zero['label']"
   ]
  },
  {
   "cell_type": "code",
   "execution_count": 413,
   "metadata": {},
   "outputs": [
    {
     "name": "stderr",
     "output_type": "stream",
     "text": [
      "/Library/Frameworks/Python.framework/Versions/3.9/lib/python3.9/site-packages/sklearn/feature_extraction/text.py:409: UserWarning: Your stop_words may be inconsistent with your preprocessing. Tokenizing the stop words generated tokens ['lex', '①①', '①②', '①③', '①④', '①⑤', '①⑥', '①⑦', '①⑧', '①⑨', '①ａ', '①ｂ', '①ｃ', '①ｄ', '①ｅ', '①ｆ', '①ｇ', '①ｈ', '①ｉ', '①ｏ', '②①', '②②', '②③', '②④', '②⑤', '②⑥', '②⑦', '②⑧', '②⑩', '②ａ', '②ｂ', '②ｄ', '②ｅ', '②ｆ', '②ｇ', '②ｈ', '②ｉ', '②ｊ', '③①', '③⑩', '③ａ', '③ｂ', '③ｃ', '③ｄ', '③ｅ', '③ｆ', '③ｇ', '③ｈ', '④ａ', '④ｂ', '④ｃ', '④ｄ', '④ｅ', '⑤ａ', '⑤ｂ', '⑤ｄ', '⑤ｅ', '⑤ｆ', '１２', 'ｌｉ', 'ｚｘｆｉｔｌ'] not in stop_words.\n",
      "  warnings.warn(\n"
     ]
    },
    {
     "data": {
      "text/html": [
       "<div>\n",
       "<style scoped>\n",
       "    .dataframe tbody tr th:only-of-type {\n",
       "        vertical-align: middle;\n",
       "    }\n",
       "\n",
       "    .dataframe tbody tr th {\n",
       "        vertical-align: top;\n",
       "    }\n",
       "\n",
       "    .dataframe thead th {\n",
       "        text-align: right;\n",
       "    }\n",
       "</style>\n",
       "<table border=\"1\" class=\"dataframe\">\n",
       "  <thead>\n",
       "    <tr style=\"text-align: right;\">\n",
       "      <th></th>\n",
       "      <th>一一一億</th>\n",
       "      <th>一一七五</th>\n",
       "      <th>一一七六億</th>\n",
       "      <th>一一九九七</th>\n",
       "      <th>一一五</th>\n",
       "      <th>一一八五</th>\n",
       "      <th>一一六</th>\n",
       "      <th>一一六億</th>\n",
       "      <th>一一六八三兆</th>\n",
       "      <th>一一出爐</th>\n",
       "      <th>...</th>\n",
       "      <th>龐培歐</th>\n",
       "      <th>龐大</th>\n",
       "      <th>龐雜</th>\n",
       "      <th>龔培元</th>\n",
       "      <th>龔明鑫</th>\n",
       "      <th>龔明鑫日</th>\n",
       "      <th>龜尾</th>\n",
       "      <th>龜山</th>\n",
       "      <th>龜山廠</th>\n",
       "      <th>龜速</th>\n",
       "    </tr>\n",
       "  </thead>\n",
       "  <tbody>\n",
       "    <tr>\n",
       "      <th>0</th>\n",
       "      <td>0.0</td>\n",
       "      <td>0.0</td>\n",
       "      <td>0.0</td>\n",
       "      <td>0.0</td>\n",
       "      <td>0.0</td>\n",
       "      <td>0.0</td>\n",
       "      <td>0.0</td>\n",
       "      <td>0.0</td>\n",
       "      <td>0.0</td>\n",
       "      <td>0.0</td>\n",
       "      <td>...</td>\n",
       "      <td>0.0</td>\n",
       "      <td>0.0</td>\n",
       "      <td>0.0</td>\n",
       "      <td>0.0</td>\n",
       "      <td>0.0</td>\n",
       "      <td>0.0</td>\n",
       "      <td>0.0</td>\n",
       "      <td>0.0</td>\n",
       "      <td>0.0</td>\n",
       "      <td>0.0</td>\n",
       "    </tr>\n",
       "    <tr>\n",
       "      <th>1</th>\n",
       "      <td>0.0</td>\n",
       "      <td>0.0</td>\n",
       "      <td>0.0</td>\n",
       "      <td>0.0</td>\n",
       "      <td>0.0</td>\n",
       "      <td>0.0</td>\n",
       "      <td>0.0</td>\n",
       "      <td>0.0</td>\n",
       "      <td>0.0</td>\n",
       "      <td>0.0</td>\n",
       "      <td>...</td>\n",
       "      <td>0.0</td>\n",
       "      <td>0.0</td>\n",
       "      <td>0.0</td>\n",
       "      <td>0.0</td>\n",
       "      <td>0.0</td>\n",
       "      <td>0.0</td>\n",
       "      <td>0.0</td>\n",
       "      <td>0.0</td>\n",
       "      <td>0.0</td>\n",
       "      <td>0.0</td>\n",
       "    </tr>\n",
       "    <tr>\n",
       "      <th>2</th>\n",
       "      <td>0.0</td>\n",
       "      <td>0.0</td>\n",
       "      <td>0.0</td>\n",
       "      <td>0.0</td>\n",
       "      <td>0.0</td>\n",
       "      <td>0.0</td>\n",
       "      <td>0.0</td>\n",
       "      <td>0.0</td>\n",
       "      <td>0.0</td>\n",
       "      <td>0.0</td>\n",
       "      <td>...</td>\n",
       "      <td>0.0</td>\n",
       "      <td>0.0</td>\n",
       "      <td>0.0</td>\n",
       "      <td>0.0</td>\n",
       "      <td>0.0</td>\n",
       "      <td>0.0</td>\n",
       "      <td>0.0</td>\n",
       "      <td>0.0</td>\n",
       "      <td>0.0</td>\n",
       "      <td>0.0</td>\n",
       "    </tr>\n",
       "    <tr>\n",
       "      <th>3</th>\n",
       "      <td>0.0</td>\n",
       "      <td>0.0</td>\n",
       "      <td>0.0</td>\n",
       "      <td>0.0</td>\n",
       "      <td>0.0</td>\n",
       "      <td>0.0</td>\n",
       "      <td>0.0</td>\n",
       "      <td>0.0</td>\n",
       "      <td>0.0</td>\n",
       "      <td>0.0</td>\n",
       "      <td>...</td>\n",
       "      <td>0.0</td>\n",
       "      <td>0.0</td>\n",
       "      <td>0.0</td>\n",
       "      <td>0.0</td>\n",
       "      <td>0.0</td>\n",
       "      <td>0.0</td>\n",
       "      <td>0.0</td>\n",
       "      <td>0.0</td>\n",
       "      <td>0.0</td>\n",
       "      <td>0.0</td>\n",
       "    </tr>\n",
       "    <tr>\n",
       "      <th>4</th>\n",
       "      <td>0.0</td>\n",
       "      <td>0.0</td>\n",
       "      <td>0.0</td>\n",
       "      <td>0.0</td>\n",
       "      <td>0.0</td>\n",
       "      <td>0.0</td>\n",
       "      <td>0.0</td>\n",
       "      <td>0.0</td>\n",
       "      <td>0.0</td>\n",
       "      <td>0.0</td>\n",
       "      <td>...</td>\n",
       "      <td>0.0</td>\n",
       "      <td>0.0</td>\n",
       "      <td>0.0</td>\n",
       "      <td>0.0</td>\n",
       "      <td>0.0</td>\n",
       "      <td>0.0</td>\n",
       "      <td>0.0</td>\n",
       "      <td>0.0</td>\n",
       "      <td>0.0</td>\n",
       "      <td>0.0</td>\n",
       "    </tr>\n",
       "    <tr>\n",
       "      <th>...</th>\n",
       "      <td>...</td>\n",
       "      <td>...</td>\n",
       "      <td>...</td>\n",
       "      <td>...</td>\n",
       "      <td>...</td>\n",
       "      <td>...</td>\n",
       "      <td>...</td>\n",
       "      <td>...</td>\n",
       "      <td>...</td>\n",
       "      <td>...</td>\n",
       "      <td>...</td>\n",
       "      <td>...</td>\n",
       "      <td>...</td>\n",
       "      <td>...</td>\n",
       "      <td>...</td>\n",
       "      <td>...</td>\n",
       "      <td>...</td>\n",
       "      <td>...</td>\n",
       "      <td>...</td>\n",
       "      <td>...</td>\n",
       "      <td>...</td>\n",
       "    </tr>\n",
       "    <tr>\n",
       "      <th>4858</th>\n",
       "      <td>0.0</td>\n",
       "      <td>0.0</td>\n",
       "      <td>0.0</td>\n",
       "      <td>0.0</td>\n",
       "      <td>0.0</td>\n",
       "      <td>0.0</td>\n",
       "      <td>0.0</td>\n",
       "      <td>0.0</td>\n",
       "      <td>0.0</td>\n",
       "      <td>0.0</td>\n",
       "      <td>...</td>\n",
       "      <td>0.0</td>\n",
       "      <td>0.0</td>\n",
       "      <td>0.0</td>\n",
       "      <td>0.0</td>\n",
       "      <td>0.0</td>\n",
       "      <td>0.0</td>\n",
       "      <td>0.0</td>\n",
       "      <td>0.0</td>\n",
       "      <td>0.0</td>\n",
       "      <td>0.0</td>\n",
       "    </tr>\n",
       "    <tr>\n",
       "      <th>4859</th>\n",
       "      <td>0.0</td>\n",
       "      <td>0.0</td>\n",
       "      <td>0.0</td>\n",
       "      <td>0.0</td>\n",
       "      <td>0.0</td>\n",
       "      <td>0.0</td>\n",
       "      <td>0.0</td>\n",
       "      <td>0.0</td>\n",
       "      <td>0.0</td>\n",
       "      <td>0.0</td>\n",
       "      <td>...</td>\n",
       "      <td>0.0</td>\n",
       "      <td>0.0</td>\n",
       "      <td>0.0</td>\n",
       "      <td>0.0</td>\n",
       "      <td>0.0</td>\n",
       "      <td>0.0</td>\n",
       "      <td>0.0</td>\n",
       "      <td>0.0</td>\n",
       "      <td>0.0</td>\n",
       "      <td>0.0</td>\n",
       "    </tr>\n",
       "    <tr>\n",
       "      <th>4860</th>\n",
       "      <td>0.0</td>\n",
       "      <td>0.0</td>\n",
       "      <td>0.0</td>\n",
       "      <td>0.0</td>\n",
       "      <td>0.0</td>\n",
       "      <td>0.0</td>\n",
       "      <td>0.0</td>\n",
       "      <td>0.0</td>\n",
       "      <td>0.0</td>\n",
       "      <td>0.0</td>\n",
       "      <td>...</td>\n",
       "      <td>0.0</td>\n",
       "      <td>0.0</td>\n",
       "      <td>0.0</td>\n",
       "      <td>0.0</td>\n",
       "      <td>0.0</td>\n",
       "      <td>0.0</td>\n",
       "      <td>0.0</td>\n",
       "      <td>0.0</td>\n",
       "      <td>0.0</td>\n",
       "      <td>0.0</td>\n",
       "    </tr>\n",
       "    <tr>\n",
       "      <th>4861</th>\n",
       "      <td>0.0</td>\n",
       "      <td>0.0</td>\n",
       "      <td>0.0</td>\n",
       "      <td>0.0</td>\n",
       "      <td>0.0</td>\n",
       "      <td>0.0</td>\n",
       "      <td>0.0</td>\n",
       "      <td>0.0</td>\n",
       "      <td>0.0</td>\n",
       "      <td>0.0</td>\n",
       "      <td>...</td>\n",
       "      <td>0.0</td>\n",
       "      <td>0.0</td>\n",
       "      <td>0.0</td>\n",
       "      <td>0.0</td>\n",
       "      <td>0.0</td>\n",
       "      <td>0.0</td>\n",
       "      <td>0.0</td>\n",
       "      <td>0.0</td>\n",
       "      <td>0.0</td>\n",
       "      <td>0.0</td>\n",
       "    </tr>\n",
       "    <tr>\n",
       "      <th>4862</th>\n",
       "      <td>0.0</td>\n",
       "      <td>0.0</td>\n",
       "      <td>0.0</td>\n",
       "      <td>0.0</td>\n",
       "      <td>0.0</td>\n",
       "      <td>0.0</td>\n",
       "      <td>0.0</td>\n",
       "      <td>0.0</td>\n",
       "      <td>0.0</td>\n",
       "      <td>0.0</td>\n",
       "      <td>...</td>\n",
       "      <td>0.0</td>\n",
       "      <td>0.0</td>\n",
       "      <td>0.0</td>\n",
       "      <td>0.0</td>\n",
       "      <td>0.0</td>\n",
       "      <td>0.0</td>\n",
       "      <td>0.0</td>\n",
       "      <td>0.0</td>\n",
       "      <td>0.0</td>\n",
       "      <td>0.0</td>\n",
       "    </tr>\n",
       "  </tbody>\n",
       "</table>\n",
       "<p>4863 rows × 63450 columns</p>\n",
       "</div>"
      ],
      "text/plain": [
       "      一一一億  一一七五  一一七六億  一一九九七  一一五  一一八五  一一六  一一六億  一一六八三兆  一一出爐  ...  龐培歐  \\\n",
       "0      0.0   0.0    0.0    0.0  0.0   0.0  0.0   0.0     0.0   0.0  ...  0.0   \n",
       "1      0.0   0.0    0.0    0.0  0.0   0.0  0.0   0.0     0.0   0.0  ...  0.0   \n",
       "2      0.0   0.0    0.0    0.0  0.0   0.0  0.0   0.0     0.0   0.0  ...  0.0   \n",
       "3      0.0   0.0    0.0    0.0  0.0   0.0  0.0   0.0     0.0   0.0  ...  0.0   \n",
       "4      0.0   0.0    0.0    0.0  0.0   0.0  0.0   0.0     0.0   0.0  ...  0.0   \n",
       "...    ...   ...    ...    ...  ...   ...  ...   ...     ...   ...  ...  ...   \n",
       "4858   0.0   0.0    0.0    0.0  0.0   0.0  0.0   0.0     0.0   0.0  ...  0.0   \n",
       "4859   0.0   0.0    0.0    0.0  0.0   0.0  0.0   0.0     0.0   0.0  ...  0.0   \n",
       "4860   0.0   0.0    0.0    0.0  0.0   0.0  0.0   0.0     0.0   0.0  ...  0.0   \n",
       "4861   0.0   0.0    0.0    0.0  0.0   0.0  0.0   0.0     0.0   0.0  ...  0.0   \n",
       "4862   0.0   0.0    0.0    0.0  0.0   0.0  0.0   0.0     0.0   0.0  ...  0.0   \n",
       "\n",
       "       龐大   龐雜  龔培元  龔明鑫  龔明鑫日   龜尾   龜山  龜山廠   龜速  \n",
       "0     0.0  0.0  0.0  0.0   0.0  0.0  0.0  0.0  0.0  \n",
       "1     0.0  0.0  0.0  0.0   0.0  0.0  0.0  0.0  0.0  \n",
       "2     0.0  0.0  0.0  0.0   0.0  0.0  0.0  0.0  0.0  \n",
       "3     0.0  0.0  0.0  0.0   0.0  0.0  0.0  0.0  0.0  \n",
       "4     0.0  0.0  0.0  0.0   0.0  0.0  0.0  0.0  0.0  \n",
       "...   ...  ...  ...  ...   ...  ...  ...  ...  ...  \n",
       "4858  0.0  0.0  0.0  0.0   0.0  0.0  0.0  0.0  0.0  \n",
       "4859  0.0  0.0  0.0  0.0   0.0  0.0  0.0  0.0  0.0  \n",
       "4860  0.0  0.0  0.0  0.0   0.0  0.0  0.0  0.0  0.0  \n",
       "4861  0.0  0.0  0.0  0.0   0.0  0.0  0.0  0.0  0.0  \n",
       "4862  0.0  0.0  0.0  0.0   0.0  0.0  0.0  0.0  0.0  \n",
       "\n",
       "[4863 rows x 63450 columns]"
      ]
     },
     "metadata": {},
     "output_type": "display_data"
    }
   ],
   "source": [
    "# 將所有資料向量化，轉成 tfidf vector\n",
    "vectorizer = TfidfVectorizer(stop_words=stopwords)\n",
    "TFIDF_vectors = vectorizer.fit_transform(X_data)\n",
    "TFIDF_vectors = pd.DataFrame(TFIDF_vectors.toarray(), columns = vectorizer.get_feature_names_out())\n",
    "display(TFIDF_vectors)"
   ]
  },
  {
   "cell_type": "code",
   "execution_count": 414,
   "metadata": {},
   "outputs": [],
   "source": [
    "diff_vectors = TFIDF_vectors[key_diff]"
   ]
  },
  {
   "cell_type": "code",
   "execution_count": 415,
   "metadata": {},
   "outputs": [
    {
     "name": "stdout",
     "output_type": "stream",
     "text": [
      "train data length: 3890 , 3890\n",
      "test data length: 973 , 973\n"
     ]
    }
   ],
   "source": [
    "# 隨機切分資料\n",
    "# text_size = 0.2 --> train 80%、test 20%\n",
    "# X_data = SVD_vectors\n",
    "from sklearn.model_selection import train_test_split\n",
    "X_train, X_test, Y_train, Y_test = train_test_split(diff_vectors, Y_data, test_size = 0.2, random_state = 2, stratify = Y_data)\n",
    "print(\"train data length:\", len(X_train), \",\", len(Y_train))\n",
    "print(\"test data length:\",len(X_test), \",\", len(Y_test))"
   ]
  },
  {
   "cell_type": "code",
   "execution_count": 417,
   "metadata": {},
   "outputs": [],
   "source": [
    "# PCA\n",
    "from sklearn.decomposition import PCA\n",
    "pca_model = PCA(n_components = 1000) # 取多少重要關鍵字調：n_components\n",
    "pca_model.fit(X_train, Y_train)\n",
    "X_train = pca_model.transform(X_train)\n",
    "X_test = pca_model.transform(X_test)"
   ]
  },
  {
   "attachments": {},
   "cell_type": "markdown",
   "metadata": {},
   "source": [
    "### 預測模型"
   ]
  },
  {
   "cell_type": "code",
   "execution_count": 194,
   "metadata": {},
   "outputs": [],
   "source": [
    "def vote(X_train, Y_train, X_test, Y_test):\n",
    "    result = []\n",
    "\n",
    "    from sklearn import metrics\n",
    "    # Gradient Boosting Classifier\n",
    "    from sklearn.ensemble import GradientBoostingClassifier\n",
    "    clf = GradientBoostingClassifier(n_estimators=100, learning_rate=1, max_depth=7, random_state=1, max_features='sqrt')\n",
    "    clf.fit(X_train, Y_train)\n",
    "    GBC_predicted_y = clf.predict(X_test)\n",
    "    print('GBC Accuracy:', metrics.accuracy_score(Y_test, GBC_predicted_y))\n",
    "    result.append(GBC_predicted_y)\n",
    "    \n",
    "    # NB\n",
    "    from sklearn.naive_bayes import BernoulliNB\n",
    "    NB_model = BernoulliNB()\n",
    "    NB_model.fit(X_train,Y_train)\n",
    "    NB_predicted_y = NB_model.predict(X_test)\n",
    "    print('NB Accuracy:', metrics.accuracy_score(Y_test, NB_predicted_y))\n",
    "    result.append(NB_predicted_y)\n",
    "\n",
    "\n",
    "    # SVM\n",
    "    from sklearn.svm import SVC\n",
    "    SVM_model = SVC(kernel = 'rbf', C = 100.0, gamma = 1, probability=True)\n",
    "    SVM_model.fit(X_train,Y_train)\n",
    "    SVM_predicted_y = SVM_model.predict(X_test)\n",
    "    print('SVM Accuracy:', metrics.accuracy_score(Y_test, SVM_predicted_y))\n",
    "    result.append(SVM_predicted_y)\n",
    "\n",
    "\n",
    "    # DT\n",
    "    from sklearn.tree import DecisionTreeClassifier                          \n",
    "    classifier = DecisionTreeClassifier(criterion = \"entropy\")\n",
    "    classifier.fit(X_train, Y_train)\n",
    "    DT_predicted_y = classifier.predict(X_test)\n",
    "    print(\"DT Accuracy:\", metrics.accuracy_score(Y_test, DT_predicted_y)) # 比對答案，計算準確率\n",
    "    result.append(DT_predicted_y)\n",
    "\n",
    "\n",
    "    # RF\n",
    "    from sklearn.ensemble import RandomForestClassifier\n",
    "    forest = RandomForestClassifier(n_estimators = 100, max_features=\"sqrt\")\n",
    "    forest_fit = forest.fit(X_train, Y_train)\n",
    "    RM_predicted_y = forest.predict(X_test)\n",
    "    print(\"RM Accuracy:\", metrics.accuracy_score(Y_test, RM_predicted_y))\n",
    "    result.append(RM_predicted_y)\n",
    "\n",
    "    # KNN\n",
    "    # from sklearn.neighbors import KNeighborsClassifier\n",
    "    # classifie = KNeighborsClassifier(n_neighbors = 7)\n",
    "    # classifie.fit(X_train, Y_train)\n",
    "    # KNN_predicted_y = classifie.predict(X_test)\n",
    "    # print(\"KNN Accuracy:\", metrics.accuracy_score(Y_test, KNN_predicted_y)) # 比對答案，計算準確率\n",
    "    # result.append(KNN_predicted_y)\n",
    "\n",
    "    # voting\n",
    "    res = pd.DataFrame(result, index=[\"GBC\", \"NB\", \"SVM\", \"DT\", \"RF\"])\n",
    "    pred = [(max(list(res[i]), key=list(res[i]).count)) for i in range(len(res.columns))]\n",
    "    print(\"Accuracy after voting:\", metrics.accuracy_score(Y_test, pred)) # 比對答案，計算準確率\n",
    "\n"
   ]
  },
  {
   "cell_type": "code",
   "execution_count": 416,
   "metadata": {},
   "outputs": [
    {
     "name": "stdout",
     "output_type": "stream",
     "text": [
      "GBC Accuracy: 0.6474820143884892\n",
      "NB Accuracy: 0.6341212744090442\n",
      "SVM Accuracy: 0.7029804727646455\n",
      "DT Accuracy: 0.656731757451182\n",
      "RM Accuracy: 0.6515930113052415\n",
      "Accuracy after voting: 0.6618705035971223\n"
     ]
    }
   ],
   "source": [
    "# n = 3, sigma = 0.01\n",
    "# no PCA, keyword most common: 10000 (1444 difference)\n",
    "vote(X_train, Y_train, X_test, Y_test)"
   ]
  },
  {
   "cell_type": "code",
   "execution_count": 418,
   "metadata": {},
   "outputs": [
    {
     "name": "stdout",
     "output_type": "stream",
     "text": [
      "GBC Accuracy: 0.7040082219938335\n",
      "NB Accuracy: 0.697841726618705\n",
      "SVM Accuracy: 0.6824254881808839\n",
      "DT Accuracy: 0.6557040082219938\n",
      "RM Accuracy: 0.7060637204522097\n",
      "Accuracy after voting: 0.7173689619732785\n"
     ]
    }
   ],
   "source": [
    "# n = 3, sigma = 0.01\n",
    "# PCA: 1000, keyword most common: 10000 (1444 difference)\n",
    "vote(X_train, Y_train, X_test, Y_test)"
   ]
  },
  {
   "cell_type": "code",
   "execution_count": 410,
   "metadata": {},
   "outputs": [
    {
     "name": "stdout",
     "output_type": "stream",
     "text": [
      "GBC Accuracy: 0.736896197327852\n",
      "NB Accuracy: 0.7122302158273381\n",
      "SVM Accuracy: 0.710174717368962\n",
      "DT Accuracy: 0.6752312435765673\n",
      "RM Accuracy: 0.7225077081192189\n",
      "Accuracy after voting: 0.7595066803699897\n"
     ]
    }
   ],
   "source": [
    "# n = 3, sigma = 0.01\n",
    "# PCA: 1500, keyword most common: 12000 (2385 difference)\n",
    "vote(X_train, Y_train, X_test, Y_test)"
   ]
  },
  {
   "cell_type": "code",
   "execution_count": 406,
   "metadata": {},
   "outputs": [
    {
     "name": "stdout",
     "output_type": "stream",
     "text": [
      "GBC Accuracy: 0.7492291880781089\n",
      "NB Accuracy: 0.7163412127440905\n",
      "SVM Accuracy: 0.6690647482014388\n",
      "DT Accuracy: 0.7019527235354573\n",
      "RM Accuracy: 0.7574511819116135\n",
      "Accuracy after voting: 0.7553956834532374\n"
     ]
    }
   ],
   "source": [
    "# n = 3, sigma = 0.01\n",
    "# PCA: 1000, keyword most common: 12000 (2385 difference)\n",
    "vote(X_train, Y_train, X_test, Y_test)"
   ]
  },
  {
   "cell_type": "code",
   "execution_count": 363,
   "metadata": {},
   "outputs": [
    {
     "name": "stdout",
     "output_type": "stream",
     "text": [
      "GBC Accuracy: 0.7542613636363636\n",
      "NB Accuracy: 0.7613636363636364\n",
      "SVM Accuracy: 0.6576704545454546\n",
      "DT Accuracy: 0.7130681818181818\n",
      "RM Accuracy: 0.7627840909090909\n",
      "Accuracy after voting: 0.7627840909090909\n"
     ]
    }
   ],
   "source": [
    "# n = 1, sigma = 0.01\n",
    "# PCA: 1000, keyword most common: 12000 (3348 difference)\n",
    "vote(X_train, Y_train, X_test, Y_test)"
   ]
  },
  {
   "cell_type": "code",
   "execution_count": 228,
   "metadata": {},
   "outputs": [
    {
     "name": "stdout",
     "output_type": "stream",
     "text": [
      "GBC Accuracy: 0.9327731092436975\n",
      "NB Accuracy: 0.9159663865546218\n",
      "SVM Accuracy: 0.7619047619047619\n",
      "DT Accuracy: 0.8543417366946778\n",
      "RM Accuracy: 0.9159663865546218\n",
      "Accuracy after voting: 0.9215686274509803\n"
     ]
    }
   ],
   "source": [
    "# n = 3, sigma = 0.03\n",
    "# PCA: 1000, keyword most common: 12000\n",
    "vote(X_train, Y_train, X_test, Y_test)"
   ]
  },
  {
   "cell_type": "code",
   "execution_count": 134,
   "metadata": {},
   "outputs": [
    {
     "name": "stdout",
     "output_type": "stream",
     "text": [
      "GBC Accuracy: 0.6619318181818182\n",
      "NB Accuracy: 0.7514204545454546\n",
      "SVM Accuracy: 0.6818181818181818\n",
      "DT Accuracy: 0.7144886363636364\n",
      "RM Accuracy: 0.6676136363636364\n",
      "Accuracy after voting: 0.7329545454545454\n"
     ]
    }
   ],
   "source": [
    "# PCA: 1800, keyword most common: 12000\n",
    "vote(X_train, Y_train, X_test, Y_test)"
   ]
  },
  {
   "cell_type": "code",
   "execution_count": 131,
   "metadata": {},
   "outputs": [
    {
     "name": "stdout",
     "output_type": "stream",
     "text": [
      "GBC Accuracy: 0.6917613636363636\n",
      "NB Accuracy: 0.7514204545454546\n",
      "SVM Accuracy: 0.6704545454545454\n",
      "DT Accuracy: 0.6974431818181818\n",
      "RM Accuracy: 0.7017045454545454\n",
      "Accuracy after voting: 0.734375\n"
     ]
    }
   ],
   "source": [
    "# PCA: 1500, keyword most common: 12000\n",
    "vote(X_train, Y_train, X_test, Y_test)"
   ]
  },
  {
   "cell_type": "code",
   "execution_count": 128,
   "metadata": {},
   "outputs": [
    {
     "name": "stdout",
     "output_type": "stream",
     "text": [
      "GBC Accuracy: 0.6690340909090909\n",
      "NB Accuracy: 0.75\n",
      "SVM Accuracy: 0.6818181818181818\n",
      "DT Accuracy: 0.6889204545454546\n",
      "RM Accuracy: 0.6321022727272727\n",
      "Accuracy after voting: 0.7144886363636364\n"
     ]
    }
   ],
   "source": [
    "# PCA: 2000, keyword most common: 12000\n",
    "vote(X_train, Y_train, X_test, Y_test)"
   ]
  },
  {
   "cell_type": "code",
   "execution_count": 119,
   "metadata": {},
   "outputs": [
    {
     "name": "stdout",
     "output_type": "stream",
     "text": [
      "GBC Accuracy: 0.7443181818181818\n",
      "NB Accuracy: 0.7485795454545454\n",
      "SVM Accuracy: 0.6178977272727273\n",
      "DT Accuracy: 0.6931818181818182\n",
      "RM Accuracy: 0.7514204545454546\n",
      "Accuracy after voting: 0.7286931818181818\n"
     ]
    }
   ],
   "source": [
    "# PCA: 500, keyword most common: 10000\n",
    "vote(X_train, Y_train, X_test, Y_test)"
   ]
  },
  {
   "cell_type": "code",
   "execution_count": 181,
   "metadata": {},
   "outputs": [
    {
     "name": "stdout",
     "output_type": "stream",
     "text": [
      "GBC Accuracy: 0.7440273037542662\n",
      "NB Accuracy: 0.7406143344709898\n",
      "SVM Accuracy: 0.6416382252559727\n",
      "DT Accuracy: 0.7235494880546075\n",
      "RM Accuracy: 0.764505119453925\n",
      "Accuracy after voting: 0.764505119453925\n"
     ]
    }
   ],
   "source": [
    "# n = 3, sigma = 0.01\n",
    "# PCA: 800, keyword most common: 10000\n",
    "vote(X_train, Y_train, X_test, Y_test)"
   ]
  },
  {
   "cell_type": "code",
   "execution_count": 111,
   "metadata": {},
   "outputs": [
    {
     "name": "stdout",
     "output_type": "stream",
     "text": [
      "GBC Accuracy: 0.7372159090909091\n",
      "NB Accuracy: 0.7457386363636364\n",
      "SVM Accuracy: 0.6931818181818182\n",
      "DT Accuracy: 0.7159090909090909\n",
      "RM Accuracy: 0.7542613636363636\n",
      "Accuracy after voting: 0.7428977272727273\n"
     ]
    }
   ],
   "source": [
    "# PCA: 900, keyword most common: 10000\n",
    "vote(X_train, Y_train, X_test, Y_test)"
   ]
  },
  {
   "cell_type": "code",
   "execution_count": 173,
   "metadata": {},
   "outputs": [
    {
     "name": "stdout",
     "output_type": "stream",
     "text": [
      "GBC Accuracy: 0.7440273037542662\n",
      "NB Accuracy: 0.735494880546075\n",
      "SVM Accuracy: 0.674061433447099\n",
      "DT Accuracy: 0.7372013651877133\n",
      "RM Accuracy: 0.7610921501706485\n",
      "Accuracy after voting: 0.7593856655290102\n"
     ]
    }
   ],
   "source": [
    "# n = 3, sigma = 0.01\n",
    "# PCA: 1000, keyword most common: 10000\n",
    "vote(X_train, Y_train, X_test, Y_test)"
   ]
  },
  {
   "cell_type": "code",
   "execution_count": 103,
   "metadata": {},
   "outputs": [
    {
     "name": "stdout",
     "output_type": "stream",
     "text": [
      "GBC Accuracy: 0.703125\n",
      "NB Accuracy: 0.7457386363636364\n",
      "SVM Accuracy: 0.7130681818181818\n",
      "DT Accuracy: 0.6633522727272727\n",
      "RM Accuracy: 0.7088068181818182\n",
      "Accuracy after voting: 0.7386363636363636\n"
     ]
    }
   ],
   "source": [
    "# PCA: 1200, keyword most common: 10000\n",
    "vote(X_train, Y_train, X_test, Y_test)"
   ]
  },
  {
   "cell_type": "code",
   "execution_count": 97,
   "metadata": {},
   "outputs": [
    {
     "name": "stdout",
     "output_type": "stream",
     "text": [
      "GBC Accuracy: 0.6818181818181818\n",
      "NB Accuracy: 0.7428977272727273\n",
      "SVM Accuracy: 0.7159090909090909\n",
      "DT Accuracy: 0.6931818181818182\n",
      "RM Accuracy: 0.6548295454545454\n",
      "KNN Accuracy: 0.5213068181818182\n",
      "Accuracy after voting: 0.7002840909090909\n"
     ]
    }
   ],
   "source": [
    "# PCA: 1250, keyword most common: 10000\n",
    "vote(X_train, Y_train, X_test, Y_test)"
   ]
  },
  {
   "cell_type": "code",
   "execution_count": 179,
   "metadata": {},
   "outputs": [
    {
     "name": "stdout",
     "output_type": "stream",
     "text": [
      "GBC Accuracy: 0.6245733788395904\n",
      "NB Accuracy: 0.5819112627986348\n",
      "SVM Accuracy: 0.8054607508532423\n",
      "DT Accuracy: 0.6348122866894198\n",
      "RM Accuracy: 0.621160409556314\n",
      "Accuracy after voting: 0.6484641638225256\n"
     ]
    }
   ],
   "source": [
    "# n = 3, sigma = 0.01\n",
    "# no PCA, keyword most common: 10000\n",
    "vote(X_train, Y_train, X_test, Y_test)"
   ]
  },
  {
   "cell_type": "code",
   "execution_count": 77,
   "metadata": {},
   "outputs": [],
   "source": [
    "from sklearn.model_selection import GridSearchCV"
   ]
  },
  {
   "cell_type": "code",
   "execution_count": 78,
   "metadata": {},
   "outputs": [
    {
     "name": "stdout",
     "output_type": "stream",
     "text": [
      "Fitting 5 folds for each of 8 candidates, totalling 40 fits\n",
      "[CV 1/5] END ..........C=1, gamma=1, kernel=rbf;, score=0.689 total time=   4.5s\n",
      "[CV 2/5] END ..........C=1, gamma=1, kernel=rbf;, score=0.670 total time=   4.3s\n",
      "[CV 3/5] END ..........C=1, gamma=1, kernel=rbf;, score=0.712 total time=   4.8s\n",
      "[CV 4/5] END ..........C=1, gamma=1, kernel=rbf;, score=0.684 total time=   4.7s\n",
      "[CV 5/5] END ..........C=1, gamma=1, kernel=rbf;, score=0.683 total time=   4.4s\n",
      "[CV 1/5] END .......C=1, gamma=1, kernel=linear;, score=0.504 total time=   5.1s\n",
      "[CV 2/5] END .......C=1, gamma=1, kernel=linear;, score=0.504 total time=   5.0s\n",
      "[CV 3/5] END .......C=1, gamma=1, kernel=linear;, score=0.503 total time=   5.0s\n",
      "[CV 4/5] END .......C=1, gamma=1, kernel=linear;, score=0.503 total time=   5.0s\n",
      "[CV 5/5] END .......C=1, gamma=1, kernel=linear;, score=0.504 total time=   5.0s\n",
      "[CV 1/5] END ........C=1, gamma=0.1, kernel=rbf;, score=0.504 total time=   5.9s\n",
      "[CV 2/5] END ........C=1, gamma=0.1, kernel=rbf;, score=0.504 total time=   5.7s\n",
      "[CV 3/5] END ........C=1, gamma=0.1, kernel=rbf;, score=0.503 total time=   5.7s\n",
      "[CV 4/5] END ........C=1, gamma=0.1, kernel=rbf;, score=0.503 total time=   5.7s\n",
      "[CV 5/5] END ........C=1, gamma=0.1, kernel=rbf;, score=0.504 total time=   5.7s\n",
      "[CV 1/5] END .....C=1, gamma=0.1, kernel=linear;, score=0.504 total time=   5.0s\n",
      "[CV 2/5] END .....C=1, gamma=0.1, kernel=linear;, score=0.504 total time=   5.0s\n",
      "[CV 3/5] END .....C=1, gamma=0.1, kernel=linear;, score=0.503 total time=   5.0s\n",
      "[CV 4/5] END .....C=1, gamma=0.1, kernel=linear;, score=0.503 total time=   5.0s\n",
      "[CV 5/5] END .....C=1, gamma=0.1, kernel=linear;, score=0.504 total time=   5.0s\n",
      "[CV 1/5] END ........C=100, gamma=1, kernel=rbf;, score=0.771 total time=   3.2s\n",
      "[CV 2/5] END ........C=100, gamma=1, kernel=rbf;, score=0.776 total time=   3.3s\n",
      "[CV 3/5] END ........C=100, gamma=1, kernel=rbf;, score=0.801 total time=   3.1s\n",
      "[CV 4/5] END ........C=100, gamma=1, kernel=rbf;, score=0.753 total time=   3.2s\n",
      "[CV 5/5] END ........C=100, gamma=1, kernel=rbf;, score=0.778 total time=   3.2s\n",
      "[CV 1/5] END .....C=100, gamma=1, kernel=linear;, score=0.677 total time=   4.0s\n",
      "[CV 2/5] END .....C=100, gamma=1, kernel=linear;, score=0.666 total time=   4.2s\n"
     ]
    },
    {
     "ename": "KeyboardInterrupt",
     "evalue": "",
     "output_type": "error",
     "traceback": [
      "\u001b[0;31m---------------------------------------------------------------------------\u001b[0m",
      "\u001b[0;31mKeyboardInterrupt\u001b[0m                         Traceback (most recent call last)",
      "\u001b[1;32m/Users/CHIANGYONGSIN/NTU/111_2/大數據與商業分析/2023_BDA/personal_workspace/Julie/model.ipynb 儲存格 43\u001b[0m in \u001b[0;36m4\n\u001b[1;32m      <a href='vscode-notebook-cell:/Users/CHIANGYONGSIN/NTU/111_2/%E5%A4%A7%E6%95%B8%E6%93%9A%E8%88%87%E5%95%86%E6%A5%AD%E5%88%86%E6%9E%90/2023_BDA/personal_workspace/Julie/model.ipynb#Y101sZmlsZQ%3D%3D?line=1'>2</a>\u001b[0m param_grid \u001b[39m=\u001b[39m {\u001b[39m'\u001b[39m\u001b[39mC\u001b[39m\u001b[39m'\u001b[39m: [\u001b[39m1\u001b[39m, \u001b[39m100\u001b[39m], \u001b[39m'\u001b[39m\u001b[39mgamma\u001b[39m\u001b[39m'\u001b[39m: [\u001b[39m1\u001b[39m, \u001b[39m0.1\u001b[39m],\u001b[39m'\u001b[39m\u001b[39mkernel\u001b[39m\u001b[39m'\u001b[39m: [\u001b[39m'\u001b[39m\u001b[39mrbf\u001b[39m\u001b[39m'\u001b[39m,\u001b[39m'\u001b[39m\u001b[39mlinear\u001b[39m\u001b[39m'\u001b[39m]}\n\u001b[1;32m      <a href='vscode-notebook-cell:/Users/CHIANGYONGSIN/NTU/111_2/%E5%A4%A7%E6%95%B8%E6%93%9A%E8%88%87%E5%95%86%E6%A5%AD%E5%88%86%E6%9E%90/2023_BDA/personal_workspace/Julie/model.ipynb#Y101sZmlsZQ%3D%3D?line=2'>3</a>\u001b[0m grid \u001b[39m=\u001b[39m GridSearchCV(SVC(),param_grid,refit\u001b[39m=\u001b[39m\u001b[39mTrue\u001b[39;00m,verbose\u001b[39m=\u001b[39m\u001b[39m3\u001b[39m)\n\u001b[0;32m----> <a href='vscode-notebook-cell:/Users/CHIANGYONGSIN/NTU/111_2/%E5%A4%A7%E6%95%B8%E6%93%9A%E8%88%87%E5%95%86%E6%A5%AD%E5%88%86%E6%9E%90/2023_BDA/personal_workspace/Julie/model.ipynb#Y101sZmlsZQ%3D%3D?line=3'>4</a>\u001b[0m grid\u001b[39m.\u001b[39;49mfit(X_train,Y_train)\n",
      "File \u001b[0;32m/Library/Frameworks/Python.framework/Versions/3.9/lib/python3.9/site-packages/sklearn/model_selection/_search.py:875\u001b[0m, in \u001b[0;36mBaseSearchCV.fit\u001b[0;34m(self, X, y, groups, **fit_params)\u001b[0m\n\u001b[1;32m    869\u001b[0m     results \u001b[39m=\u001b[39m \u001b[39mself\u001b[39m\u001b[39m.\u001b[39m_format_results(\n\u001b[1;32m    870\u001b[0m         all_candidate_params, n_splits, all_out, all_more_results\n\u001b[1;32m    871\u001b[0m     )\n\u001b[1;32m    873\u001b[0m     \u001b[39mreturn\u001b[39;00m results\n\u001b[0;32m--> 875\u001b[0m \u001b[39mself\u001b[39;49m\u001b[39m.\u001b[39;49m_run_search(evaluate_candidates)\n\u001b[1;32m    877\u001b[0m \u001b[39m# multimetric is determined here because in the case of a callable\u001b[39;00m\n\u001b[1;32m    878\u001b[0m \u001b[39m# self.scoring the return type is only known after calling\u001b[39;00m\n\u001b[1;32m    879\u001b[0m first_test_score \u001b[39m=\u001b[39m all_out[\u001b[39m0\u001b[39m][\u001b[39m\"\u001b[39m\u001b[39mtest_scores\u001b[39m\u001b[39m\"\u001b[39m]\n",
      "File \u001b[0;32m/Library/Frameworks/Python.framework/Versions/3.9/lib/python3.9/site-packages/sklearn/model_selection/_search.py:1389\u001b[0m, in \u001b[0;36mGridSearchCV._run_search\u001b[0;34m(self, evaluate_candidates)\u001b[0m\n\u001b[1;32m   1387\u001b[0m \u001b[39mdef\u001b[39;00m \u001b[39m_run_search\u001b[39m(\u001b[39mself\u001b[39m, evaluate_candidates):\n\u001b[1;32m   1388\u001b[0m     \u001b[39m\"\"\"Search all candidates in param_grid\"\"\"\u001b[39;00m\n\u001b[0;32m-> 1389\u001b[0m     evaluate_candidates(ParameterGrid(\u001b[39mself\u001b[39;49m\u001b[39m.\u001b[39;49mparam_grid))\n",
      "File \u001b[0;32m/Library/Frameworks/Python.framework/Versions/3.9/lib/python3.9/site-packages/sklearn/model_selection/_search.py:822\u001b[0m, in \u001b[0;36mBaseSearchCV.fit.<locals>.evaluate_candidates\u001b[0;34m(candidate_params, cv, more_results)\u001b[0m\n\u001b[1;32m    814\u001b[0m \u001b[39mif\u001b[39;00m \u001b[39mself\u001b[39m\u001b[39m.\u001b[39mverbose \u001b[39m>\u001b[39m \u001b[39m0\u001b[39m:\n\u001b[1;32m    815\u001b[0m     \u001b[39mprint\u001b[39m(\n\u001b[1;32m    816\u001b[0m         \u001b[39m\"\u001b[39m\u001b[39mFitting \u001b[39m\u001b[39m{0}\u001b[39;00m\u001b[39m folds for each of \u001b[39m\u001b[39m{1}\u001b[39;00m\u001b[39m candidates,\u001b[39m\u001b[39m\"\u001b[39m\n\u001b[1;32m    817\u001b[0m         \u001b[39m\"\u001b[39m\u001b[39m totalling \u001b[39m\u001b[39m{2}\u001b[39;00m\u001b[39m fits\u001b[39m\u001b[39m\"\u001b[39m\u001b[39m.\u001b[39mformat(\n\u001b[1;32m    818\u001b[0m             n_splits, n_candidates, n_candidates \u001b[39m*\u001b[39m n_splits\n\u001b[1;32m    819\u001b[0m         )\n\u001b[1;32m    820\u001b[0m     )\n\u001b[0;32m--> 822\u001b[0m out \u001b[39m=\u001b[39m parallel(\n\u001b[1;32m    823\u001b[0m     delayed(_fit_and_score)(\n\u001b[1;32m    824\u001b[0m         clone(base_estimator),\n\u001b[1;32m    825\u001b[0m         X,\n\u001b[1;32m    826\u001b[0m         y,\n\u001b[1;32m    827\u001b[0m         train\u001b[39m=\u001b[39;49mtrain,\n\u001b[1;32m    828\u001b[0m         test\u001b[39m=\u001b[39;49mtest,\n\u001b[1;32m    829\u001b[0m         parameters\u001b[39m=\u001b[39;49mparameters,\n\u001b[1;32m    830\u001b[0m         split_progress\u001b[39m=\u001b[39;49m(split_idx, n_splits),\n\u001b[1;32m    831\u001b[0m         candidate_progress\u001b[39m=\u001b[39;49m(cand_idx, n_candidates),\n\u001b[1;32m    832\u001b[0m         \u001b[39m*\u001b[39;49m\u001b[39m*\u001b[39;49mfit_and_score_kwargs,\n\u001b[1;32m    833\u001b[0m     )\n\u001b[1;32m    834\u001b[0m     \u001b[39mfor\u001b[39;49;00m (cand_idx, parameters), (split_idx, (train, test)) \u001b[39min\u001b[39;49;00m product(\n\u001b[1;32m    835\u001b[0m         \u001b[39menumerate\u001b[39;49m(candidate_params), \u001b[39menumerate\u001b[39;49m(cv\u001b[39m.\u001b[39;49msplit(X, y, groups))\n\u001b[1;32m    836\u001b[0m     )\n\u001b[1;32m    837\u001b[0m )\n\u001b[1;32m    839\u001b[0m \u001b[39mif\u001b[39;00m \u001b[39mlen\u001b[39m(out) \u001b[39m<\u001b[39m \u001b[39m1\u001b[39m:\n\u001b[1;32m    840\u001b[0m     \u001b[39mraise\u001b[39;00m \u001b[39mValueError\u001b[39;00m(\n\u001b[1;32m    841\u001b[0m         \u001b[39m\"\u001b[39m\u001b[39mNo fits were performed. \u001b[39m\u001b[39m\"\u001b[39m\n\u001b[1;32m    842\u001b[0m         \u001b[39m\"\u001b[39m\u001b[39mWas the CV iterator empty? \u001b[39m\u001b[39m\"\u001b[39m\n\u001b[1;32m    843\u001b[0m         \u001b[39m\"\u001b[39m\u001b[39mWere there no candidates?\u001b[39m\u001b[39m\"\u001b[39m\n\u001b[1;32m    844\u001b[0m     )\n",
      "File \u001b[0;32m/Library/Frameworks/Python.framework/Versions/3.9/lib/python3.9/site-packages/joblib/parallel.py:1088\u001b[0m, in \u001b[0;36mParallel.__call__\u001b[0;34m(self, iterable)\u001b[0m\n\u001b[1;32m   1085\u001b[0m \u001b[39mif\u001b[39;00m \u001b[39mself\u001b[39m\u001b[39m.\u001b[39mdispatch_one_batch(iterator):\n\u001b[1;32m   1086\u001b[0m     \u001b[39mself\u001b[39m\u001b[39m.\u001b[39m_iterating \u001b[39m=\u001b[39m \u001b[39mself\u001b[39m\u001b[39m.\u001b[39m_original_iterator \u001b[39mis\u001b[39;00m \u001b[39mnot\u001b[39;00m \u001b[39mNone\u001b[39;00m\n\u001b[0;32m-> 1088\u001b[0m \u001b[39mwhile\u001b[39;00m \u001b[39mself\u001b[39;49m\u001b[39m.\u001b[39;49mdispatch_one_batch(iterator):\n\u001b[1;32m   1089\u001b[0m     \u001b[39mpass\u001b[39;00m\n\u001b[1;32m   1091\u001b[0m \u001b[39mif\u001b[39;00m pre_dispatch \u001b[39m==\u001b[39m \u001b[39m\"\u001b[39m\u001b[39mall\u001b[39m\u001b[39m\"\u001b[39m \u001b[39mor\u001b[39;00m n_jobs \u001b[39m==\u001b[39m \u001b[39m1\u001b[39m:\n\u001b[1;32m   1092\u001b[0m     \u001b[39m# The iterable was consumed all at once by the above for loop.\u001b[39;00m\n\u001b[1;32m   1093\u001b[0m     \u001b[39m# No need to wait for async callbacks to trigger to\u001b[39;00m\n\u001b[1;32m   1094\u001b[0m     \u001b[39m# consumption.\u001b[39;00m\n",
      "File \u001b[0;32m/Library/Frameworks/Python.framework/Versions/3.9/lib/python3.9/site-packages/joblib/parallel.py:901\u001b[0m, in \u001b[0;36mParallel.dispatch_one_batch\u001b[0;34m(self, iterator)\u001b[0m\n\u001b[1;32m    899\u001b[0m     \u001b[39mreturn\u001b[39;00m \u001b[39mFalse\u001b[39;00m\n\u001b[1;32m    900\u001b[0m \u001b[39melse\u001b[39;00m:\n\u001b[0;32m--> 901\u001b[0m     \u001b[39mself\u001b[39;49m\u001b[39m.\u001b[39;49m_dispatch(tasks)\n\u001b[1;32m    902\u001b[0m     \u001b[39mreturn\u001b[39;00m \u001b[39mTrue\u001b[39;00m\n",
      "File \u001b[0;32m/Library/Frameworks/Python.framework/Versions/3.9/lib/python3.9/site-packages/joblib/parallel.py:819\u001b[0m, in \u001b[0;36mParallel._dispatch\u001b[0;34m(self, batch)\u001b[0m\n\u001b[1;32m    817\u001b[0m \u001b[39mwith\u001b[39;00m \u001b[39mself\u001b[39m\u001b[39m.\u001b[39m_lock:\n\u001b[1;32m    818\u001b[0m     job_idx \u001b[39m=\u001b[39m \u001b[39mlen\u001b[39m(\u001b[39mself\u001b[39m\u001b[39m.\u001b[39m_jobs)\n\u001b[0;32m--> 819\u001b[0m     job \u001b[39m=\u001b[39m \u001b[39mself\u001b[39;49m\u001b[39m.\u001b[39;49m_backend\u001b[39m.\u001b[39;49mapply_async(batch, callback\u001b[39m=\u001b[39;49mcb)\n\u001b[1;32m    820\u001b[0m     \u001b[39m# A job can complete so quickly than its callback is\u001b[39;00m\n\u001b[1;32m    821\u001b[0m     \u001b[39m# called before we get here, causing self._jobs to\u001b[39;00m\n\u001b[1;32m    822\u001b[0m     \u001b[39m# grow. To ensure correct results ordering, .insert is\u001b[39;00m\n\u001b[1;32m    823\u001b[0m     \u001b[39m# used (rather than .append) in the following line\u001b[39;00m\n\u001b[1;32m    824\u001b[0m     \u001b[39mself\u001b[39m\u001b[39m.\u001b[39m_jobs\u001b[39m.\u001b[39minsert(job_idx, job)\n",
      "File \u001b[0;32m/Library/Frameworks/Python.framework/Versions/3.9/lib/python3.9/site-packages/joblib/_parallel_backends.py:208\u001b[0m, in \u001b[0;36mSequentialBackend.apply_async\u001b[0;34m(self, func, callback)\u001b[0m\n\u001b[1;32m    206\u001b[0m \u001b[39mdef\u001b[39;00m \u001b[39mapply_async\u001b[39m(\u001b[39mself\u001b[39m, func, callback\u001b[39m=\u001b[39m\u001b[39mNone\u001b[39;00m):\n\u001b[1;32m    207\u001b[0m     \u001b[39m\"\"\"Schedule a func to be run\"\"\"\u001b[39;00m\n\u001b[0;32m--> 208\u001b[0m     result \u001b[39m=\u001b[39m ImmediateResult(func)\n\u001b[1;32m    209\u001b[0m     \u001b[39mif\u001b[39;00m callback:\n\u001b[1;32m    210\u001b[0m         callback(result)\n",
      "File \u001b[0;32m/Library/Frameworks/Python.framework/Versions/3.9/lib/python3.9/site-packages/joblib/_parallel_backends.py:597\u001b[0m, in \u001b[0;36mImmediateResult.__init__\u001b[0;34m(self, batch)\u001b[0m\n\u001b[1;32m    594\u001b[0m \u001b[39mdef\u001b[39;00m \u001b[39m__init__\u001b[39m(\u001b[39mself\u001b[39m, batch):\n\u001b[1;32m    595\u001b[0m     \u001b[39m# Don't delay the application, to avoid keeping the input\u001b[39;00m\n\u001b[1;32m    596\u001b[0m     \u001b[39m# arguments in memory\u001b[39;00m\n\u001b[0;32m--> 597\u001b[0m     \u001b[39mself\u001b[39m\u001b[39m.\u001b[39mresults \u001b[39m=\u001b[39m batch()\n",
      "File \u001b[0;32m/Library/Frameworks/Python.framework/Versions/3.9/lib/python3.9/site-packages/joblib/parallel.py:288\u001b[0m, in \u001b[0;36mBatchedCalls.__call__\u001b[0;34m(self)\u001b[0m\n\u001b[1;32m    284\u001b[0m \u001b[39mdef\u001b[39;00m \u001b[39m__call__\u001b[39m(\u001b[39mself\u001b[39m):\n\u001b[1;32m    285\u001b[0m     \u001b[39m# Set the default nested backend to self._backend but do not set the\u001b[39;00m\n\u001b[1;32m    286\u001b[0m     \u001b[39m# change the default number of processes to -1\u001b[39;00m\n\u001b[1;32m    287\u001b[0m     \u001b[39mwith\u001b[39;00m parallel_backend(\u001b[39mself\u001b[39m\u001b[39m.\u001b[39m_backend, n_jobs\u001b[39m=\u001b[39m\u001b[39mself\u001b[39m\u001b[39m.\u001b[39m_n_jobs):\n\u001b[0;32m--> 288\u001b[0m         \u001b[39mreturn\u001b[39;00m [func(\u001b[39m*\u001b[39margs, \u001b[39m*\u001b[39m\u001b[39m*\u001b[39mkwargs)\n\u001b[1;32m    289\u001b[0m                 \u001b[39mfor\u001b[39;00m func, args, kwargs \u001b[39min\u001b[39;00m \u001b[39mself\u001b[39m\u001b[39m.\u001b[39mitems]\n",
      "File \u001b[0;32m/Library/Frameworks/Python.framework/Versions/3.9/lib/python3.9/site-packages/joblib/parallel.py:288\u001b[0m, in \u001b[0;36m<listcomp>\u001b[0;34m(.0)\u001b[0m\n\u001b[1;32m    284\u001b[0m \u001b[39mdef\u001b[39;00m \u001b[39m__call__\u001b[39m(\u001b[39mself\u001b[39m):\n\u001b[1;32m    285\u001b[0m     \u001b[39m# Set the default nested backend to self._backend but do not set the\u001b[39;00m\n\u001b[1;32m    286\u001b[0m     \u001b[39m# change the default number of processes to -1\u001b[39;00m\n\u001b[1;32m    287\u001b[0m     \u001b[39mwith\u001b[39;00m parallel_backend(\u001b[39mself\u001b[39m\u001b[39m.\u001b[39m_backend, n_jobs\u001b[39m=\u001b[39m\u001b[39mself\u001b[39m\u001b[39m.\u001b[39m_n_jobs):\n\u001b[0;32m--> 288\u001b[0m         \u001b[39mreturn\u001b[39;00m [func(\u001b[39m*\u001b[39;49margs, \u001b[39m*\u001b[39;49m\u001b[39m*\u001b[39;49mkwargs)\n\u001b[1;32m    289\u001b[0m                 \u001b[39mfor\u001b[39;00m func, args, kwargs \u001b[39min\u001b[39;00m \u001b[39mself\u001b[39m\u001b[39m.\u001b[39mitems]\n",
      "File \u001b[0;32m/Library/Frameworks/Python.framework/Versions/3.9/lib/python3.9/site-packages/sklearn/utils/fixes.py:117\u001b[0m, in \u001b[0;36m_FuncWrapper.__call__\u001b[0;34m(self, *args, **kwargs)\u001b[0m\n\u001b[1;32m    115\u001b[0m \u001b[39mdef\u001b[39;00m \u001b[39m__call__\u001b[39m(\u001b[39mself\u001b[39m, \u001b[39m*\u001b[39margs, \u001b[39m*\u001b[39m\u001b[39m*\u001b[39mkwargs):\n\u001b[1;32m    116\u001b[0m     \u001b[39mwith\u001b[39;00m config_context(\u001b[39m*\u001b[39m\u001b[39m*\u001b[39m\u001b[39mself\u001b[39m\u001b[39m.\u001b[39mconfig):\n\u001b[0;32m--> 117\u001b[0m         \u001b[39mreturn\u001b[39;00m \u001b[39mself\u001b[39;49m\u001b[39m.\u001b[39;49mfunction(\u001b[39m*\u001b[39;49margs, \u001b[39m*\u001b[39;49m\u001b[39m*\u001b[39;49mkwargs)\n",
      "File \u001b[0;32m/Library/Frameworks/Python.framework/Versions/3.9/lib/python3.9/site-packages/sklearn/model_selection/_validation.py:708\u001b[0m, in \u001b[0;36m_fit_and_score\u001b[0;34m(estimator, X, y, scorer, train, test, verbose, parameters, fit_params, return_train_score, return_parameters, return_n_test_samples, return_times, return_estimator, split_progress, candidate_progress, error_score)\u001b[0m\n\u001b[1;32m    705\u001b[0m result[\u001b[39m\"\u001b[39m\u001b[39mfit_error\u001b[39m\u001b[39m\"\u001b[39m] \u001b[39m=\u001b[39m \u001b[39mNone\u001b[39;00m\n\u001b[1;32m    707\u001b[0m fit_time \u001b[39m=\u001b[39m time\u001b[39m.\u001b[39mtime() \u001b[39m-\u001b[39m start_time\n\u001b[0;32m--> 708\u001b[0m test_scores \u001b[39m=\u001b[39m _score(estimator, X_test, y_test, scorer, error_score)\n\u001b[1;32m    709\u001b[0m score_time \u001b[39m=\u001b[39m time\u001b[39m.\u001b[39mtime() \u001b[39m-\u001b[39m start_time \u001b[39m-\u001b[39m fit_time\n\u001b[1;32m    710\u001b[0m \u001b[39mif\u001b[39;00m return_train_score:\n",
      "File \u001b[0;32m/Library/Frameworks/Python.framework/Versions/3.9/lib/python3.9/site-packages/sklearn/model_selection/_validation.py:767\u001b[0m, in \u001b[0;36m_score\u001b[0;34m(estimator, X_test, y_test, scorer, error_score)\u001b[0m\n\u001b[1;32m    765\u001b[0m         scores \u001b[39m=\u001b[39m scorer(estimator, X_test)\n\u001b[1;32m    766\u001b[0m     \u001b[39melse\u001b[39;00m:\n\u001b[0;32m--> 767\u001b[0m         scores \u001b[39m=\u001b[39m scorer(estimator, X_test, y_test)\n\u001b[1;32m    768\u001b[0m \u001b[39mexcept\u001b[39;00m \u001b[39mException\u001b[39;00m:\n\u001b[1;32m    769\u001b[0m     \u001b[39mif\u001b[39;00m error_score \u001b[39m==\u001b[39m \u001b[39m\"\u001b[39m\u001b[39mraise\u001b[39m\u001b[39m\"\u001b[39m:\n",
      "File \u001b[0;32m/Library/Frameworks/Python.framework/Versions/3.9/lib/python3.9/site-packages/sklearn/metrics/_scorer.py:430\u001b[0m, in \u001b[0;36m_passthrough_scorer\u001b[0;34m(estimator, *args, **kwargs)\u001b[0m\n\u001b[1;32m    428\u001b[0m \u001b[39mdef\u001b[39;00m \u001b[39m_passthrough_scorer\u001b[39m(estimator, \u001b[39m*\u001b[39margs, \u001b[39m*\u001b[39m\u001b[39m*\u001b[39mkwargs):\n\u001b[1;32m    429\u001b[0m     \u001b[39m\"\"\"Function that wraps estimator.score\"\"\"\u001b[39;00m\n\u001b[0;32m--> 430\u001b[0m     \u001b[39mreturn\u001b[39;00m estimator\u001b[39m.\u001b[39;49mscore(\u001b[39m*\u001b[39;49margs, \u001b[39m*\u001b[39;49m\u001b[39m*\u001b[39;49mkwargs)\n",
      "File \u001b[0;32m/Library/Frameworks/Python.framework/Versions/3.9/lib/python3.9/site-packages/sklearn/base.py:638\u001b[0m, in \u001b[0;36mClassifierMixin.score\u001b[0;34m(self, X, y, sample_weight)\u001b[0m\n\u001b[1;32m    613\u001b[0m \u001b[39m\"\"\"\u001b[39;00m\n\u001b[1;32m    614\u001b[0m \u001b[39mReturn the mean accuracy on the given test data and labels.\u001b[39;00m\n\u001b[1;32m    615\u001b[0m \n\u001b[0;32m   (...)\u001b[0m\n\u001b[1;32m    634\u001b[0m \u001b[39m    Mean accuracy of ``self.predict(X)`` wrt. `y`.\u001b[39;00m\n\u001b[1;32m    635\u001b[0m \u001b[39m\"\"\"\u001b[39;00m\n\u001b[1;32m    636\u001b[0m \u001b[39mfrom\u001b[39;00m \u001b[39m.\u001b[39;00m\u001b[39mmetrics\u001b[39;00m \u001b[39mimport\u001b[39;00m accuracy_score\n\u001b[0;32m--> 638\u001b[0m \u001b[39mreturn\u001b[39;00m accuracy_score(y, \u001b[39mself\u001b[39;49m\u001b[39m.\u001b[39;49mpredict(X), sample_weight\u001b[39m=\u001b[39msample_weight)\n",
      "File \u001b[0;32m/Library/Frameworks/Python.framework/Versions/3.9/lib/python3.9/site-packages/sklearn/svm/_base.py:820\u001b[0m, in \u001b[0;36mBaseSVC.predict\u001b[0;34m(self, X)\u001b[0m\n\u001b[1;32m    818\u001b[0m     y \u001b[39m=\u001b[39m np\u001b[39m.\u001b[39margmax(\u001b[39mself\u001b[39m\u001b[39m.\u001b[39mdecision_function(X), axis\u001b[39m=\u001b[39m\u001b[39m1\u001b[39m)\n\u001b[1;32m    819\u001b[0m \u001b[39melse\u001b[39;00m:\n\u001b[0;32m--> 820\u001b[0m     y \u001b[39m=\u001b[39m \u001b[39msuper\u001b[39;49m()\u001b[39m.\u001b[39;49mpredict(X)\n\u001b[1;32m    821\u001b[0m \u001b[39mreturn\u001b[39;00m \u001b[39mself\u001b[39m\u001b[39m.\u001b[39mclasses_\u001b[39m.\u001b[39mtake(np\u001b[39m.\u001b[39masarray(y, dtype\u001b[39m=\u001b[39mnp\u001b[39m.\u001b[39mintp))\n",
      "File \u001b[0;32m/Library/Frameworks/Python.framework/Versions/3.9/lib/python3.9/site-packages/sklearn/svm/_base.py:435\u001b[0m, in \u001b[0;36mBaseLibSVM.predict\u001b[0;34m(self, X)\u001b[0m\n\u001b[1;32m    433\u001b[0m X \u001b[39m=\u001b[39m \u001b[39mself\u001b[39m\u001b[39m.\u001b[39m_validate_for_predict(X)\n\u001b[1;32m    434\u001b[0m predict \u001b[39m=\u001b[39m \u001b[39mself\u001b[39m\u001b[39m.\u001b[39m_sparse_predict \u001b[39mif\u001b[39;00m \u001b[39mself\u001b[39m\u001b[39m.\u001b[39m_sparse \u001b[39melse\u001b[39;00m \u001b[39mself\u001b[39m\u001b[39m.\u001b[39m_dense_predict\n\u001b[0;32m--> 435\u001b[0m \u001b[39mreturn\u001b[39;00m predict(X)\n",
      "File \u001b[0;32m/Library/Frameworks/Python.framework/Versions/3.9/lib/python3.9/site-packages/sklearn/svm/_base.py:454\u001b[0m, in \u001b[0;36mBaseLibSVM._dense_predict\u001b[0;34m(self, X)\u001b[0m\n\u001b[1;32m    446\u001b[0m         \u001b[39mraise\u001b[39;00m \u001b[39mValueError\u001b[39;00m(\n\u001b[1;32m    447\u001b[0m             \u001b[39m\"\u001b[39m\u001b[39mX.shape[1] = \u001b[39m\u001b[39m%d\u001b[39;00m\u001b[39m should be equal to \u001b[39m\u001b[39m%d\u001b[39;00m\u001b[39m, \u001b[39m\u001b[39m\"\u001b[39m\n\u001b[1;32m    448\u001b[0m             \u001b[39m\"\u001b[39m\u001b[39mthe number of samples at training time\u001b[39m\u001b[39m\"\u001b[39m\n\u001b[1;32m    449\u001b[0m             \u001b[39m%\u001b[39m (X\u001b[39m.\u001b[39mshape[\u001b[39m1\u001b[39m], \u001b[39mself\u001b[39m\u001b[39m.\u001b[39mshape_fit_[\u001b[39m0\u001b[39m])\n\u001b[1;32m    450\u001b[0m         )\n\u001b[1;32m    452\u001b[0m svm_type \u001b[39m=\u001b[39m LIBSVM_IMPL\u001b[39m.\u001b[39mindex(\u001b[39mself\u001b[39m\u001b[39m.\u001b[39m_impl)\n\u001b[0;32m--> 454\u001b[0m \u001b[39mreturn\u001b[39;00m libsvm\u001b[39m.\u001b[39;49mpredict(\n\u001b[1;32m    455\u001b[0m     X,\n\u001b[1;32m    456\u001b[0m     \u001b[39mself\u001b[39;49m\u001b[39m.\u001b[39;49msupport_,\n\u001b[1;32m    457\u001b[0m     \u001b[39mself\u001b[39;49m\u001b[39m.\u001b[39;49msupport_vectors_,\n\u001b[1;32m    458\u001b[0m     \u001b[39mself\u001b[39;49m\u001b[39m.\u001b[39;49m_n_support,\n\u001b[1;32m    459\u001b[0m     \u001b[39mself\u001b[39;49m\u001b[39m.\u001b[39;49m_dual_coef_,\n\u001b[1;32m    460\u001b[0m     \u001b[39mself\u001b[39;49m\u001b[39m.\u001b[39;49m_intercept_,\n\u001b[1;32m    461\u001b[0m     \u001b[39mself\u001b[39;49m\u001b[39m.\u001b[39;49m_probA,\n\u001b[1;32m    462\u001b[0m     \u001b[39mself\u001b[39;49m\u001b[39m.\u001b[39;49m_probB,\n\u001b[1;32m    463\u001b[0m     svm_type\u001b[39m=\u001b[39;49msvm_type,\n\u001b[1;32m    464\u001b[0m     kernel\u001b[39m=\u001b[39;49mkernel,\n\u001b[1;32m    465\u001b[0m     degree\u001b[39m=\u001b[39;49m\u001b[39mself\u001b[39;49m\u001b[39m.\u001b[39;49mdegree,\n\u001b[1;32m    466\u001b[0m     coef0\u001b[39m=\u001b[39;49m\u001b[39mself\u001b[39;49m\u001b[39m.\u001b[39;49mcoef0,\n\u001b[1;32m    467\u001b[0m     gamma\u001b[39m=\u001b[39;49m\u001b[39mself\u001b[39;49m\u001b[39m.\u001b[39;49m_gamma,\n\u001b[1;32m    468\u001b[0m     cache_size\u001b[39m=\u001b[39;49m\u001b[39mself\u001b[39;49m\u001b[39m.\u001b[39;49mcache_size,\n\u001b[1;32m    469\u001b[0m )\n",
      "\u001b[0;31mKeyboardInterrupt\u001b[0m: "
     ]
    }
   ],
   "source": [
    "from sklearn.svm import SVC\n",
    "param_grid = {'C': [1, 100], 'gamma': [1, 0.1],'kernel': ['rbf','linear']}\n",
    "grid = GridSearchCV(SVC(),param_grid,refit=True,verbose=3)\n",
    "grid.fit(X_train,Y_train)"
   ]
  },
  {
   "cell_type": "code",
   "execution_count": null,
   "metadata": {},
   "outputs": [],
   "source": [
    "print(grid.best_params_)"
   ]
  },
  {
   "cell_type": "code",
   "execution_count": null,
   "metadata": {},
   "outputs": [],
   "source": [
    "from sklearn.metrics import confusion_matrix  \n",
    "print(confusion_matrix(Y_test, Y_pred, labels = ['漲', '跌'])) # 印出混淆矩陣\n",
    "# test/predicted 看漲   看跌   \n",
    "#    看漲         TN     FP\n",
    "#    看跌         FN     TP"
   ]
  }
 ],
 "metadata": {
  "kernelspec": {
   "display_name": "Python 3",
   "language": "python",
   "name": "python3"
  },
  "language_info": {
   "codemirror_mode": {
    "name": "ipython",
    "version": 3
   },
   "file_extension": ".py",
   "mimetype": "text/x-python",
   "name": "python",
   "nbconvert_exporter": "python",
   "pygments_lexer": "ipython3",
   "version": "3.9.7"
  },
  "orig_nbformat": 4
 },
 "nbformat": 4,
 "nbformat_minor": 2
}
